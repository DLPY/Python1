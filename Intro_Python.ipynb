{
  "nbformat": 4,
  "nbformat_minor": 0,
  "metadata": {
    "colab": {
      "provenance": [],
      "collapsed_sections": [],
      "toc_visible": true,
      "include_colab_link": true
    },
    "kernelspec": {
      "name": "python3",
      "display_name": "Python 3"
    },
    "language_info": {
      "name": "python"
    }
  },
  "cells": [
    {
      "cell_type": "markdown",
      "metadata": {
        "id": "view-in-github",
        "colab_type": "text"
      },
      "source": [
        "<a href=\"https://colab.research.google.com/github/DLPY/Python1/blob/main/Intro_Python.ipynb\" target=\"_parent\"><img src=\"https://colab.research.google.com/assets/colab-badge.svg\" alt=\"Open In Colab\"/></a>"
      ]
    },
    {
      "cell_type": "markdown",
      "source": [
        "### Variables & Types"
      ],
      "metadata": {
        "id": "ak_Jj9jhSDTw"
      }
    },
    {
      "cell_type": "markdown",
      "source": [
        "**Integers**\n",
        "\n",
        "*  An integer is a whole number that could hold a zero, positive or negative value\n",
        "*   Integers can be of any length, it is only limited by the memory available.\n",
        "\n",
        "\n"
      ],
      "metadata": {
        "id": "lIR9zlUeOQsh"
      }
    },
    {
      "cell_type": "code",
      "source": [
        "A= 1000\n",
        "A"
      ],
      "metadata": {
        "colab": {
          "base_uri": "https://localhost:8080/"
        },
        "id": "xTmQ9Z_5SLit",
        "outputId": "8f00264e-bd1a-4f54-a817-3ec302b27d61"
      },
      "execution_count": null,
      "outputs": [
        {
          "output_type": "execute_result",
          "data": {
            "text/plain": [
              "1000"
            ]
          },
          "metadata": {},
          "execution_count": 3
        }
      ]
    },
    {
      "cell_type": "code",
      "source": [
        "B= A+100\n",
        "B"
      ],
      "metadata": {
        "colab": {
          "base_uri": "https://localhost:8080/"
        },
        "id": "xutQkRvZPRAx",
        "outputId": "45ae1bad-50b4-4c26-e813-73a9cbc90d4d"
      },
      "execution_count": null,
      "outputs": [
        {
          "output_type": "execute_result",
          "data": {
            "text/plain": [
              "1100"
            ]
          },
          "metadata": {},
          "execution_count": 4
        }
      ]
    },
    {
      "cell_type": "code",
      "source": [
        "print(A,\"is of type \",type(A))\n",
        "print(B,\"is of type \",type(A))"
      ],
      "metadata": {
        "colab": {
          "base_uri": "https://localhost:8080/"
        },
        "id": "2ZvLnhz9Pbcp",
        "outputId": "af6be8c9-57e2-490e-97c0-ad8b40dcfc7a"
      },
      "execution_count": null,
      "outputs": [
        {
          "output_type": "stream",
          "name": "stdout",
          "text": [
            "1000 is of type  <class 'int'>\n",
            "1100 is of type  <class 'int'>\n"
          ]
        }
      ]
    },
    {
      "cell_type": "markdown",
      "source": [
        "**Float**\n",
        "*  The float type in Python designates a floating-point number.\n",
        "*   Float values are specified with a decimal point.\n",
        "\n",
        "\n",
        "\n",
        "\n",
        "\n"
      ],
      "metadata": {
        "id": "Q4dalzGssDBY"
      }
    },
    {
      "cell_type": "code",
      "source": [
        "C=-1.100\n",
        "C"
      ],
      "metadata": {
        "colab": {
          "base_uri": "https://localhost:8080/"
        },
        "id": "glYMHbw6Pm8B",
        "outputId": "8059e8a0-8169-47b5-f33d-f67760477141"
      },
      "execution_count": null,
      "outputs": [
        {
          "output_type": "execute_result",
          "data": {
            "text/plain": [
              "-1.1"
            ]
          },
          "metadata": {},
          "execution_count": 1
        }
      ]
    },
    {
      "cell_type": "code",
      "source": [
        "print(C,\", is it a float?\",isinstance(C,float))"
      ],
      "metadata": {
        "colab": {
          "base_uri": "https://localhost:8080/"
        },
        "id": "QPEMu9qlPu3z",
        "outputId": "457d5abe-7d55-4306-8476-8fcfbf004a10"
      },
      "execution_count": null,
      "outputs": [
        {
          "output_type": "stream",
          "name": "stdout",
          "text": [
            "-1.1 , is it a float? True\n"
          ]
        }
      ]
    },
    {
      "cell_type": "code",
      "source": [],
      "metadata": {
        "id": "fMNAibObmeBu"
      },
      "execution_count": null,
      "outputs": []
    },
    {
      "cell_type": "markdown",
      "source": [
        "**Strings**\n",
        "\n",
        "\n",
        "*   Strings are sequences of character data.\n",
        "*   The string type in Python is called str.\n",
        "*   String literals may be delimited using either single or double quotes.\n",
        "*   All the characters between the opening delimiter and matching closing delimiter are part of the string.\n",
        "*   Are immutable."
      ],
      "metadata": {
        "id": "aYQwN8vqUMc2"
      }
    },
    {
      "cell_type": "code",
      "source": [
        "print(\"Hello\")"
      ],
      "metadata": {
        "colab": {
          "base_uri": "https://localhost:8080/"
        },
        "id": "hp3xsmNcUx6A",
        "outputId": "7a90a5ea-4457-4abc-cac6-3e8ae162a4d0"
      },
      "execution_count": null,
      "outputs": [
        {
          "output_type": "stream",
          "name": "stdout",
          "text": [
            "Hello\n"
          ]
        }
      ]
    },
    {
      "cell_type": "code",
      "source": [
        "type(\"Welcome\")"
      ],
      "metadata": {
        "colab": {
          "base_uri": "https://localhost:8080/"
        },
        "id": "YdG5QklZU87_",
        "outputId": "d8d9510c-53bb-4275-b2fd-95eb6ed706e7"
      },
      "execution_count": null,
      "outputs": [
        {
          "output_type": "execute_result",
          "data": {
            "text/plain": [
              "str"
            ]
          },
          "metadata": {},
          "execution_count": 6
        }
      ]
    },
    {
      "cell_type": "markdown",
      "source": [
        "Slice & Dice"
      ],
      "metadata": {
        "id": "Zzrj_mNjm2J5"
      }
    },
    {
      "cell_type": "code",
      "source": [
        "b = \"Hello, World!\"\n",
        "print(b[2:5])\n",
        "print(b[:5])\n",
        "print(b[2:])"
      ],
      "metadata": {
        "colab": {
          "base_uri": "https://localhost:8080/"
        },
        "id": "RjC47hKUm5Ae",
        "outputId": "e491af1a-d865-464a-d53c-53d72e77e958"
      },
      "execution_count": null,
      "outputs": [
        {
          "output_type": "stream",
          "name": "stdout",
          "text": [
            "llo\n",
            "Hello\n",
            "llo, World!\n"
          ]
        }
      ]
    },
    {
      "cell_type": "markdown",
      "source": [
        "Modify String"
      ],
      "metadata": {
        "id": "CWPT3TXXxdew"
      }
    },
    {
      "cell_type": "code",
      "source": [
        "a = \" Hello, World!\"\n",
        "a_upper = a.upper() # Capital letters\n",
        "a_lower = a.lower() # Small Letters\n",
        "a_strip = a.strip() # Remove any whitespace from the beginning or the end\n",
        "print(a)\n",
        "print(a_upper)\n",
        "print(a_lower)\n",
        "print(a_strip)"
      ],
      "metadata": {
        "colab": {
          "base_uri": "https://localhost:8080/"
        },
        "id": "a4jXgaBCxfcR",
        "outputId": "89667835-92e1-463e-f6ba-c42b9253afbc"
      },
      "execution_count": null,
      "outputs": [
        {
          "output_type": "stream",
          "name": "stdout",
          "text": [
            " Hello, World!\n",
            " HELLO, WORLD!\n",
            " hello, world!\n",
            "Hello, World!\n"
          ]
        }
      ]
    },
    {
      "cell_type": "markdown",
      "source": [
        "String Concatenation"
      ],
      "metadata": {
        "id": "ERxCtXywxo5w"
      }
    },
    {
      "cell_type": "code",
      "source": [
        "a = \"Hello\"\n",
        "b = \"World\"\n",
        "c = a + b\n",
        "c1=a+\" \"+b\n",
        "print(c)\n",
        "print(c1)"
      ],
      "metadata": {
        "colab": {
          "base_uri": "https://localhost:8080/"
        },
        "id": "S4U8qDBSxq7h",
        "outputId": "644cc879-8ed6-4938-c4a6-489b5019ab58"
      },
      "execution_count": null,
      "outputs": [
        {
          "output_type": "stream",
          "name": "stdout",
          "text": [
            "HelloWorld\n",
            "Hello World\n"
          ]
        }
      ]
    },
    {
      "cell_type": "markdown",
      "source": [
        "String Format"
      ],
      "metadata": {
        "id": "Btzycsk0x8ao"
      }
    },
    {
      "cell_type": "code",
      "source": [
        "age = \"36\"\n",
        "txt = \"My name is John, I am \" + age\n",
        "print(txt)"
      ],
      "metadata": {
        "colab": {
          "base_uri": "https://localhost:8080/"
        },
        "id": "1nbm-SL3x-_2",
        "outputId": "ecffc80d-3431-4d99-be31-506cf2651b8d"
      },
      "execution_count": null,
      "outputs": [
        {
          "output_type": "stream",
          "name": "stdout",
          "text": [
            "My name is John, I am 36\n"
          ]
        }
      ]
    },
    {
      "cell_type": "code",
      "source": [
        "age = 36\n",
        "txt = \"My name is John, and I am {}\"\n",
        "print(txt.format(age))"
      ],
      "metadata": {
        "colab": {
          "base_uri": "https://localhost:8080/"
        },
        "id": "yDI5RasJygN6",
        "outputId": "e1dce02a-4040-498d-9162-54b696671550"
      },
      "execution_count": null,
      "outputs": [
        {
          "output_type": "stream",
          "name": "stdout",
          "text": [
            "My name is John, and I am 36\n"
          ]
        }
      ]
    },
    {
      "cell_type": "code",
      "source": [
        "quantity = 3\n",
        "itemno = 567\n",
        "price = 49.95\n",
        "myorder = \"I want {} pieces of item {} for {} dollars.\"\n",
        "print(myorder.format(quantity, itemno, price))"
      ],
      "metadata": {
        "colab": {
          "base_uri": "https://localhost:8080/"
        },
        "id": "JEfC3URCy6ge",
        "outputId": "17a49fb4-5111-4227-89d3-9d7c2d8be830"
      },
      "execution_count": null,
      "outputs": [
        {
          "output_type": "stream",
          "name": "stdout",
          "text": [
            "I want 3 pieces of item 567 for 49.95 dollars.\n"
          ]
        }
      ]
    },
    {
      "cell_type": "markdown",
      "source": [
        "Split Strings"
      ],
      "metadata": {
        "id": "KJhYfu4LzaeQ"
      }
    },
    {
      "cell_type": "code",
      "source": [
        "txt = \"welcome to the jungle\"\n",
        "\n",
        "x = txt.split()\n",
        "\n",
        "print(x)\n",
        "type(x)"
      ],
      "metadata": {
        "colab": {
          "base_uri": "https://localhost:8080/"
        },
        "id": "DByTYsPHzeGf",
        "outputId": "488d1041-1cf9-443f-d37e-632e6527f9d3"
      },
      "execution_count": null,
      "outputs": [
        {
          "output_type": "stream",
          "name": "stdout",
          "text": [
            "['welcome', 'to', 'the', 'jungle']\n"
          ]
        },
        {
          "output_type": "execute_result",
          "data": {
            "text/plain": [
              "list"
            ]
          },
          "metadata": {},
          "execution_count": 14
        }
      ]
    },
    {
      "cell_type": "code",
      "source": [
        "txt = '''Thank you for the music. Welcome to the jungle'''\n",
        "\n",
        "x = txt.splitlines()\n",
        "\n",
        "print(x)\n",
        "type(x)"
      ],
      "metadata": {
        "colab": {
          "base_uri": "https://localhost:8080/"
        },
        "id": "1Q6HpPuszh2v",
        "outputId": "203fd201-8d4b-4e0f-dc1f-843e3707f50d"
      },
      "execution_count": null,
      "outputs": [
        {
          "output_type": "stream",
          "name": "stdout",
          "text": [
            "['Thank you for the music. Welcome to the jungle']\n"
          ]
        },
        {
          "output_type": "execute_result",
          "data": {
            "text/plain": [
              "list"
            ]
          },
          "metadata": {},
          "execution_count": 15
        }
      ]
    },
    {
      "cell_type": "code",
      "source": [
        "txt = \"Thank you for the music\\nWelcome to the jungle\"\n",
        "\n",
        "x = txt.splitlines()\n",
        "\n",
        "print(x)"
      ],
      "metadata": {
        "colab": {
          "base_uri": "https://localhost:8080/"
        },
        "id": "xkYrRbVuznZ-",
        "outputId": "34101ebf-2b3c-4aad-db2a-813aec2eb3da"
      },
      "execution_count": null,
      "outputs": [
        {
          "output_type": "stream",
          "name": "stdout",
          "text": [
            "['Thank you for the music', 'Welcome to the jungle']\n"
          ]
        }
      ]
    },
    {
      "cell_type": "code",
      "source": [
        "txt = '''Thank you for the music\n",
        "Welcome to the jungle'''\n",
        "\n",
        "x = txt.splitlines()\n",
        "\n",
        "print(x)"
      ],
      "metadata": {
        "colab": {
          "base_uri": "https://localhost:8080/"
        },
        "id": "hxwWLJ_ezr-e",
        "outputId": "f9ed9885-5867-45bb-f7dc-cb736d15e1ab"
      },
      "execution_count": null,
      "outputs": [
        {
          "output_type": "stream",
          "name": "stdout",
          "text": [
            "['Thank you for the music', 'Welcome to the jungle']\n"
          ]
        }
      ]
    },
    {
      "cell_type": "markdown",
      "source": [
        "String Replace"
      ],
      "metadata": {
        "id": "txmxCby1zv-2"
      }
    },
    {
      "cell_type": "code",
      "source": [
        "txt = \"I like bananas\"\n",
        "\n",
        "x = txt.replace(\"bananas\", \"apples\")\n",
        "\n",
        "print(x)"
      ],
      "metadata": {
        "colab": {
          "base_uri": "https://localhost:8080/"
        },
        "id": "38c0nS97z0dn",
        "outputId": "52ac9355-8a98-4c00-fc97-0607505c2237"
      },
      "execution_count": null,
      "outputs": [
        {
          "output_type": "stream",
          "name": "stdout",
          "text": [
            "I like apples\n"
          ]
        }
      ]
    },
    {
      "cell_type": "markdown",
      "source": [
        " Escape Sequences\n"
      ],
      "metadata": {
        "id": "RErAFhGYoDRo"
      }
    },
    {
      "cell_type": "code",
      "source": [
        "print('This string contains a single quote \\'* character.')\n",
        "print ('Doesn\\'t')"
      ],
      "metadata": {
        "colab": {
          "base_uri": "https://localhost:8080/"
        },
        "id": "2OeLM-UdooSu",
        "outputId": "05c12dff-9caf-4b8f-d841-0df71dfaa590"
      },
      "execution_count": null,
      "outputs": [
        {
          "output_type": "stream",
          "name": "stdout",
          "text": [
            "This string contains a single quote '* character.\n",
            "Doesn't\n"
          ]
        }
      ]
    },
    {
      "cell_type": "markdown",
      "source": [
        "**Caculations**\n",
        "\n",
        "\n",
        "*   The interpreter acts as a simple calculator: you can type an expression at it and it will write the value.\n",
        "\n",
        "*   Expression syntax is straightforward: the operators +, -, * and / work just like in most other languages \n",
        "\n"
      ],
      "metadata": {
        "id": "1AO_BwHIplGq"
      }
    },
    {
      "cell_type": "code",
      "source": [
        "3+3"
      ],
      "metadata": {
        "colab": {
          "base_uri": "https://localhost:8080/"
        },
        "id": "FEU7Op2__Tx4",
        "outputId": "80350966-edd2-482a-ecd1-6eba17b80c2e"
      },
      "execution_count": null,
      "outputs": [
        {
          "output_type": "execute_result",
          "data": {
            "text/plain": [
              "6"
            ]
          },
          "metadata": {},
          "execution_count": 3
        }
      ]
    },
    {
      "cell_type": "code",
      "source": [
        "50 - 5*6"
      ],
      "metadata": {
        "colab": {
          "base_uri": "https://localhost:8080/"
        },
        "id": "86HHmAsy_eXl",
        "outputId": "6ab2f149-d88d-42ee-a503-5d486789b2c7"
      },
      "execution_count": null,
      "outputs": [
        {
          "output_type": "execute_result",
          "data": {
            "text/plain": [
              "20"
            ]
          },
          "metadata": {},
          "execution_count": 4
        }
      ]
    },
    {
      "cell_type": "code",
      "source": [
        "(50 - 5*6) / 4      #A division will always return a float"
      ],
      "metadata": {
        "colab": {
          "base_uri": "https://localhost:8080/"
        },
        "id": "i_zSD-P8__th",
        "outputId": "8596567a-dde7-4fd5-b931-bdc12ab0b572"
      },
      "execution_count": null,
      "outputs": [
        {
          "output_type": "execute_result",
          "data": {
            "text/plain": [
              "5.0"
            ]
          },
          "metadata": {},
          "execution_count": 6
        }
      ]
    },
    {
      "cell_type": "code",
      "source": [
        "5**2                #** can be used to calculate powers"
      ],
      "metadata": {
        "colab": {
          "base_uri": "https://localhost:8080/"
        },
        "id": "oYWd8yq6Aef8",
        "outputId": "5966412b-b0ae-4bb3-f275-6ea467d70dd3"
      },
      "execution_count": null,
      "outputs": [
        {
          "output_type": "execute_result",
          "data": {
            "text/plain": [
              "25"
            ]
          },
          "metadata": {},
          "execution_count": 8
        }
      ]
    },
    {
      "cell_type": "code",
      "source": [
        "#The Modular Operator returns the remainder from a divison\n",
        "print(10%2)\n",
        "print(10%3)"
      ],
      "metadata": {
        "colab": {
          "base_uri": "https://localhost:8080/"
        },
        "id": "VotwmX61L_hl",
        "outputId": "c355bb0c-b856-414b-8a45-34800966ed91"
      },
      "execution_count": null,
      "outputs": [
        {
          "output_type": "stream",
          "name": "stdout",
          "text": [
            "0\n",
            "1\n"
          ]
        }
      ]
    },
    {
      "cell_type": "code",
      "source": [
        "a = 4\n",
        "b = 5\n",
        "\n",
        "print(a+b)\n",
        "print(a-b)\n",
        "print(a%b)\n",
        "print(a**b)\n"
      ],
      "metadata": {
        "colab": {
          "base_uri": "https://localhost:8080/"
        },
        "id": "cA0d-myqNHOl",
        "outputId": "c669f200-3478-4514-b8b9-a2b8a30f4b8a"
      },
      "execution_count": null,
      "outputs": [
        {
          "output_type": "stream",
          "name": "stdout",
          "text": [
            "9\n",
            "-1\n",
            "4\n",
            "1024\n"
          ]
        }
      ]
    },
    {
      "cell_type": "markdown",
      "source": [
        "**Booleans**\n",
        "\n",
        "\n",
        "*   In programming you often need to know if an expression is True or False.\n",
        "*   You can evaluate any expression in Python, and get one of two answers, True or False.\n",
        "\n",
        "*   When you compare two values, the expression is evaluated and Python returns the Boolean answer\n",
        "\n",
        "\n",
        "\n",
        "\n"
      ],
      "metadata": {
        "id": "XDfrw5UQETnv"
      }
    },
    {
      "cell_type": "code",
      "source": [
        "print(10 > 9)\n",
        "print(10 == 9)\n",
        "print(10 < 9)"
      ],
      "metadata": {
        "colab": {
          "base_uri": "https://localhost:8080/"
        },
        "id": "gxI3NJGIEugg",
        "outputId": "8ffd2a85-d449-4cd1-fbf9-3bc08799af4e"
      },
      "execution_count": null,
      "outputs": [
        {
          "output_type": "stream",
          "name": "stdout",
          "text": [
            "True\n",
            "False\n",
            "False\n"
          ]
        }
      ]
    },
    {
      "cell_type": "markdown",
      "source": [
        "When you run a condition in an if statement, Python returns True or False:"
      ],
      "metadata": {
        "id": "3oW3b8V4FsZ-"
      }
    },
    {
      "cell_type": "code",
      "source": [
        "a = 200\n",
        "b = 33\n",
        "\n",
        "if b > a:\n",
        "  print(\"b is greater than a\")\n",
        "elif b == a: \n",
        "  print(\"b equals a\")\n",
        "else:\n",
        "  print(\"b is not greater than a\")"
      ],
      "metadata": {
        "id": "GLvsTQBRUfx-",
        "colab": {
          "base_uri": "https://localhost:8080/"
        },
        "outputId": "bea76932-05b5-4c5e-9d9a-85cb6966869f"
      },
      "execution_count": null,
      "outputs": [
        {
          "output_type": "stream",
          "name": "stdout",
          "text": [
            "b is not greater than a\n"
          ]
        }
      ]
    },
    {
      "cell_type": "markdown",
      "source": [
        "*   The bool() function allows you to evaluate any value, and give you True or False in return \n",
        "*   Almost any value is evaluated to True if it has some sort of content.\n",
        "*   Any string is True, except empty strings.\n",
        "*   Any number is True, except 0.\n",
        "\n",
        "\n",
        "\n",
        "\n",
        "\n",
        "\n"
      ],
      "metadata": {
        "id": "RC9LsiMTGOjl"
      }
    },
    {
      "cell_type": "code",
      "source": [
        "bool(\"abc\")\n",
        "\n",
        "\n"
      ],
      "metadata": {
        "colab": {
          "base_uri": "https://localhost:8080/"
        },
        "id": "d0EwMgMdFKe0",
        "outputId": "12a331e5-aff5-44f1-acb4-4e438434f9d4"
      },
      "execution_count": null,
      "outputs": [
        {
          "output_type": "execute_result",
          "data": {
            "text/plain": [
              "True"
            ]
          },
          "metadata": {},
          "execution_count": 13
        }
      ]
    },
    {
      "cell_type": "code",
      "source": [
        "bool(123)"
      ],
      "metadata": {
        "colab": {
          "base_uri": "https://localhost:8080/"
        },
        "id": "y3_A7WYQP7r6",
        "outputId": "ac2eff55-7217-408b-f288-81da34dded71"
      },
      "execution_count": null,
      "outputs": [
        {
          "output_type": "execute_result",
          "data": {
            "text/plain": [
              "True"
            ]
          },
          "metadata": {},
          "execution_count": 24
        }
      ]
    },
    {
      "cell_type": "code",
      "source": [
        "bool(0)"
      ],
      "metadata": {
        "colab": {
          "base_uri": "https://localhost:8080/"
        },
        "id": "yQs5427VJ7RL",
        "outputId": "c50ddaa0-f2a2-431a-e414-705485ad0910"
      },
      "execution_count": null,
      "outputs": [
        {
          "output_type": "execute_result",
          "data": {
            "text/plain": [
              "False"
            ]
          },
          "metadata": {},
          "execution_count": 46
        }
      ]
    },
    {
      "cell_type": "code",
      "source": [
        "bool(None)"
      ],
      "metadata": {
        "colab": {
          "base_uri": "https://localhost:8080/"
        },
        "id": "4Jjf23ydQR6C",
        "outputId": "01f0e022-046c-42ec-f29f-30e2305b11be"
      },
      "execution_count": null,
      "outputs": [
        {
          "output_type": "execute_result",
          "data": {
            "text/plain": [
              "False"
            ]
          },
          "metadata": {},
          "execution_count": 47
        }
      ]
    },
    {
      "cell_type": "code",
      "source": [],
      "metadata": {
        "id": "yqbdUS-TP_hF"
      },
      "execution_count": null,
      "outputs": []
    },
    {
      "cell_type": "markdown",
      "source": [
        "**Boolean Operators**\n",
        "\n",
        "\n",
        "*   == (to check if two values are equal)\n",
        "\n",
        "*   != (to check if two values are not equal)\n",
        "\n",
        "*   <\n",
        "\n",
        "*  \\>\n",
        "\n",
        "\n",
        "*   <=\n",
        "\n",
        "\n",
        "*   \\>=\n",
        "\n",
        "\n",
        "*   and\n",
        "\n",
        "*   or\n",
        "*   not\n",
        "\n",
        "\n",
        "\n"
      ],
      "metadata": {
        "id": "vE3g3da_OmWU"
      }
    },
    {
      "cell_type": "code",
      "source": [
        "Test1=4<5\n",
        "Test1"
      ],
      "metadata": {
        "colab": {
          "base_uri": "https://localhost:8080/"
        },
        "id": "s5d3GbcQOjh9",
        "outputId": "f4f495cc-37df-4fb0-e585-1086990ae054"
      },
      "execution_count": null,
      "outputs": [
        {
          "output_type": "execute_result",
          "data": {
            "text/plain": [
              "True"
            ]
          },
          "metadata": {},
          "execution_count": 28
        }
      ]
    },
    {
      "cell_type": "code",
      "source": [
        "type(Test1)"
      ],
      "metadata": {
        "colab": {
          "base_uri": "https://localhost:8080/"
        },
        "id": "1wBjcx6kQqVe",
        "outputId": "921f92d6-4d89-4ff9-fff0-baed3274b862"
      },
      "execution_count": null,
      "outputs": [
        {
          "output_type": "execute_result",
          "data": {
            "text/plain": [
              "bool"
            ]
          },
          "metadata": {},
          "execution_count": 29
        }
      ]
    },
    {
      "cell_type": "code",
      "source": [
        "Test2= not('M'=='M')\n",
        "Test2"
      ],
      "metadata": {
        "colab": {
          "base_uri": "https://localhost:8080/"
        },
        "id": "L1C5jDVqQt4F",
        "outputId": "019f6573-799e-4725-a9b2-0c2081e984ec"
      },
      "execution_count": null,
      "outputs": [
        {
          "output_type": "execute_result",
          "data": {
            "text/plain": [
              "False"
            ]
          },
          "metadata": {},
          "execution_count": 34
        }
      ]
    },
    {
      "cell_type": "code",
      "source": [
        "Test1 or Test2"
      ],
      "metadata": {
        "colab": {
          "base_uri": "https://localhost:8080/"
        },
        "id": "wSoH9YGUR7LW",
        "outputId": "9620d7b9-9112-4b97-ff5f-9d0c6407d621"
      },
      "execution_count": null,
      "outputs": [
        {
          "output_type": "execute_result",
          "data": {
            "text/plain": [
              "True"
            ]
          },
          "metadata": {},
          "execution_count": 35
        }
      ]
    },
    {
      "cell_type": "code",
      "source": [
        "Test1 and Test2"
      ],
      "metadata": {
        "colab": {
          "base_uri": "https://localhost:8080/"
        },
        "id": "AVHDbI_BSBKi",
        "outputId": "646e13f7-f8fe-453b-c9cf-4bf81f5b9a18"
      },
      "execution_count": null,
      "outputs": [
        {
          "output_type": "execute_result",
          "data": {
            "text/plain": [
              "False"
            ]
          },
          "metadata": {},
          "execution_count": 36
        }
      ]
    },
    {
      "cell_type": "markdown",
      "source": [
        "###IF Statements"
      ],
      "metadata": {
        "id": "zrPQa-5CSDbQ"
      }
    },
    {
      "cell_type": "markdown",
      "source": [
        "\n",
        "\n",
        "*   The IF statement is a decision-making statement that guides a program to make decisions based on specified criteria. \n",
        "*   The IF statement executes one set of code if a specified condition is met (TRUE) or another set of code evaluates to FALSE\n",
        "\n"
      ],
      "metadata": {
        "id": "lZA1HrnbSc16"
      }
    },
    {
      "cell_type": "code",
      "source": [
        "a = 33\n",
        "b = 200\n",
        "if b > a:\n",
        "  print(\"b is greater than a\")"
      ],
      "metadata": {
        "id": "rlCiVyEZTiLg",
        "colab": {
          "base_uri": "https://localhost:8080/"
        },
        "outputId": "182cb8bf-b8b6-40f0-8ffa-dd377650f140"
      },
      "execution_count": null,
      "outputs": [
        {
          "output_type": "stream",
          "name": "stdout",
          "text": [
            "b is greater than a\n"
          ]
        }
      ]
    },
    {
      "cell_type": "markdown",
      "source": [
        "**Elif**\n",
        "*   The elif keyword is pythons way of saying \"if the previous conditions were not true, then try this condition\".\n",
        "\n",
        "\n"
      ],
      "metadata": {
        "id": "z9TMARyQS9--"
      }
    },
    {
      "cell_type": "code",
      "source": [
        "a = 33\n",
        "b = 33\n",
        "if b > a:\n",
        "  print(\"b is greater than a\")\n",
        "elif a == b:\n",
        "  print(\"a and b are equal\")"
      ],
      "metadata": {
        "id": "HhtKJRdJTiTX",
        "colab": {
          "base_uri": "https://localhost:8080/"
        },
        "outputId": "7b205991-29eb-47dc-f5fc-a54f7efdd69b"
      },
      "execution_count": null,
      "outputs": [
        {
          "output_type": "stream",
          "name": "stdout",
          "text": [
            "a and b are equal\n"
          ]
        }
      ]
    },
    {
      "cell_type": "markdown",
      "source": [
        "**Else**\n",
        "\n",
        "*  The else keyword catches anything which isn't caught by the preceding conditions.\n",
        "\n",
        "\n"
      ],
      "metadata": {
        "id": "lau4AJ3eTVAK"
      }
    },
    {
      "cell_type": "code",
      "source": [
        "a = 200\n",
        "b = 33\n",
        "if b > a:\n",
        "  print(\"b is greater than a\")\n",
        "elif a == b:\n",
        "  print(\"a and b are equal\")\n",
        "else:\n",
        "  print(\"a is greater than b\")"
      ],
      "metadata": {
        "id": "z5PKhq6gTiWb",
        "colab": {
          "base_uri": "https://localhost:8080/"
        },
        "outputId": "e97549b7-cdf1-41ad-8237-6fb7c6507c2d"
      },
      "execution_count": null,
      "outputs": [
        {
          "output_type": "stream",
          "name": "stdout",
          "text": [
            "a is greater than b\n"
          ]
        }
      ]
    },
    {
      "cell_type": "markdown",
      "source": [
        "You can have multiple Else statements in the same line"
      ],
      "metadata": {
        "id": "ERBQ0GitTxGh"
      }
    },
    {
      "cell_type": "code",
      "source": [
        "a = 330\n",
        "b = 330\n",
        "print(\"A\") if a > b else print(\"=\") if a == b else print(\"B\")"
      ],
      "metadata": {
        "id": "XwoSw52sTiY5",
        "colab": {
          "base_uri": "https://localhost:8080/"
        },
        "outputId": "14391263-7683-40c6-bb4a-01388cfc81ae"
      },
      "execution_count": null,
      "outputs": [
        {
          "output_type": "stream",
          "name": "stdout",
          "text": [
            "=\n"
          ]
        }
      ]
    },
    {
      "cell_type": "markdown",
      "source": [
        " **And/Or**\n",
        "*   Both these keywords are logical operators, and are used to combine conditional statements\n"
      ],
      "metadata": {
        "id": "NqTz2alrUgLi"
      }
    },
    {
      "cell_type": "code",
      "source": [
        "a = 200\n",
        "b = 33\n",
        "c = 500\n",
        "if a > b and c > a:\n",
        "  print(\"Both conditions are True\")"
      ],
      "metadata": {
        "colab": {
          "base_uri": "https://localhost:8080/"
        },
        "id": "7-lFle8yUqf6",
        "outputId": "0d4fff36-ba3d-4bfd-e9c0-803be2dc9437"
      },
      "execution_count": null,
      "outputs": [
        {
          "output_type": "stream",
          "name": "stdout",
          "text": [
            "Both conditions are True\n"
          ]
        }
      ]
    },
    {
      "cell_type": "code",
      "source": [
        "a = 200\n",
        "b = 33\n",
        "c = 500\n",
        "if a > b or a > c:\n",
        "  print(\"At least one of the conditions is True\")"
      ],
      "metadata": {
        "colab": {
          "base_uri": "https://localhost:8080/"
        },
        "id": "Ig9J3p9QU9th",
        "outputId": "e6fe40d1-c9f1-4422-c7de-090f66edbefa"
      },
      "execution_count": null,
      "outputs": [
        {
          "output_type": "stream",
          "name": "stdout",
          "text": [
            "At least one of the conditions is True\n"
          ]
        }
      ]
    },
    {
      "cell_type": "markdown",
      "source": [
        "**Nested If**\n",
        "\n",
        "\n",
        "*   An If statement within an If statement is called a Nested If\n",
        "\n",
        "\n"
      ],
      "metadata": {
        "id": "FwnRrzfsUu0x"
      }
    },
    {
      "cell_type": "code",
      "source": [
        "x = 41\n",
        "\n",
        "if x > 10:\n",
        "  print(\"Above ten,\")\n",
        "  if x > 20:\n",
        "    print(\"and also above 20!\")\n",
        "  else:\n",
        "    print(\"but not above 20.\")"
      ],
      "metadata": {
        "colab": {
          "base_uri": "https://localhost:8080/"
        },
        "id": "Q3VOsMTOVVrx",
        "outputId": "9cbd03b9-94a8-44da-80c8-3acbe1625f09"
      },
      "execution_count": null,
      "outputs": [
        {
          "output_type": "stream",
          "name": "stdout",
          "text": [
            "Above ten,\n",
            "and also above 20!\n"
          ]
        }
      ]
    },
    {
      "cell_type": "markdown",
      "source": [
        "### For / While"
      ],
      "metadata": {
        "id": "iUNQPYEHSDem"
      }
    },
    {
      "cell_type": "markdown",
      "source": [
        "**The While Loop**\n",
        "\n",
        "*   The while loop in Python is used to iterate over a block of code as long as the test expression (condition) is true.\n",
        "*   We generally use this loop when we don't know the number of times to iterate beforehand\n",
        "\n"
      ],
      "metadata": {
        "id": "q4WgwK9iVnzM"
      }
    },
    {
      "cell_type": "code",
      "source": [
        "while False:\n",
        "  print(\"Hello\")"
      ],
      "metadata": {
        "id": "7mfoZvGsTjYq"
      },
      "execution_count": null,
      "outputs": []
    },
    {
      "cell_type": "code",
      "source": [
        "counter=0\n",
        "while counter<15:\n",
        "  print('Hello ',counter)\n",
        "  counter=counter+1"
      ],
      "metadata": {
        "id": "P_4pHJsDTjcE",
        "colab": {
          "base_uri": "https://localhost:8080/"
        },
        "outputId": "7151c3c7-da7d-450b-a605-1617b713a396"
      },
      "execution_count": null,
      "outputs": [
        {
          "output_type": "stream",
          "name": "stdout",
          "text": [
            "Hello  0\n",
            "Hello  1\n",
            "Hello  2\n",
            "Hello  3\n",
            "Hello  4\n",
            "Hello  5\n",
            "Hello  6\n",
            "Hello  7\n",
            "Hello  8\n",
            "Hello  9\n",
            "Hello  10\n",
            "Hello  11\n",
            "Hello  12\n",
            "Hello  13\n",
            "Hello  14\n"
          ]
        }
      ]
    },
    {
      "cell_type": "markdown",
      "source": [
        "**The For Loop**\n",
        "\n",
        "\n",
        "* A for loop in Python is a control flow statement that is used to repeatedly execute a group of statements as long as the condition is satisfied.\n",
        "\n",
        "\n"
      ],
      "metadata": {
        "id": "_U5lHOMup7XD"
      }
    },
    {
      "cell_type": "code",
      "source": [
        "for i in range(5):\n",
        "  print(\"Hello Python\")"
      ],
      "metadata": {
        "id": "Z1gsU85cTjfV",
        "colab": {
          "base_uri": "https://localhost:8080/"
        },
        "outputId": "57620025-55f7-49dc-b8fe-1b29a4d6a884"
      },
      "execution_count": null,
      "outputs": [
        {
          "output_type": "stream",
          "name": "stdout",
          "text": [
            "Hello Python\n",
            "Hello Python\n",
            "Hello Python\n",
            "Hello Python\n",
            "Hello Python\n"
          ]
        }
      ]
    },
    {
      "cell_type": "code",
      "source": [
        "mytestlist=[20,200,2000]\n",
        "mytestlist"
      ],
      "metadata": {
        "id": "qN70u9w3TjiN",
        "colab": {
          "base_uri": "https://localhost:8080/"
        },
        "outputId": "52a80650-9466-4ca3-fb92-d0d274631dfb"
      },
      "execution_count": null,
      "outputs": [
        {
          "output_type": "execute_result",
          "data": {
            "text/plain": [
              "[20, 200, 2000]"
            ]
          },
          "metadata": {},
          "execution_count": 52
        }
      ]
    },
    {
      "cell_type": "code",
      "source": [],
      "metadata": {
        "id": "_r8UNDsa7Nv7"
      },
      "execution_count": null,
      "outputs": []
    },
    {
      "cell_type": "code",
      "source": [
        "for check in mytestlist:\n",
        "  print(\"My check: \",check)"
      ],
      "metadata": {
        "id": "E9VCIwbXTgsI",
        "colab": {
          "base_uri": "https://localhost:8080/"
        },
        "outputId": "0529649c-8a94-4b82-86f9-c1579e35a585"
      },
      "execution_count": null,
      "outputs": [
        {
          "output_type": "stream",
          "name": "stdout",
          "text": [
            "My check:  20\n",
            "My check:  200\n",
            "My check:  2000\n"
          ]
        }
      ]
    },
    {
      "cell_type": "code",
      "source": [],
      "metadata": {
        "id": "AXa33o-H7dle"
      },
      "execution_count": null,
      "outputs": []
    },
    {
      "cell_type": "code",
      "source": [],
      "metadata": {
        "id": "IjO9ss7G7OCq"
      },
      "execution_count": null,
      "outputs": []
    },
    {
      "cell_type": "code",
      "source": [
        "#Bringing it all together \n",
        "\n",
        "namelist = [\"Joe\",\"Mary\",\"Dave\",\"Patrick\",\"Kate\",\"James\",\"Lorna\",\"Marissa\",\"Tony\",\"Chris\"]\n",
        "ageList = [21,5,23,38,5,16,18,8,9,11]\n",
        "k = 0\n",
        "Agefinal=\"{} is {} years old and is a {}\"\n",
        "for i in namelist:\n",
        "        if ageList[k] > 17: \n",
        "          a = \"adult\" \n",
        "        else: \n",
        "          a = \"child\"\n",
        "        print(Agefinal.format(i, ageList[k], a))\n",
        "        k += 1"
      ],
      "metadata": {
        "colab": {
          "base_uri": "https://localhost:8080/"
        },
        "id": "dBs7_rSG7ZIT",
        "outputId": "8f141309-cf57-461e-cbce-55d8cb604e41"
      },
      "execution_count": null,
      "outputs": [
        {
          "output_type": "stream",
          "name": "stdout",
          "text": [
            "Joe is 21 years old and is a adult\n",
            "Mary is 5 years old and is a child\n",
            "Dave is 23 years old and is a adult\n",
            "Patrick is 38 years old and is a adult\n",
            "Kate is 5 years old and is a child\n",
            "James is 16 years old and is a child\n",
            "Lorna is 18 years old and is a adult\n",
            "Marissa is 8 years old and is a child\n",
            "Tony is 9 years old and is a child\n",
            "Chris is 11 years old and is a child\n"
          ]
        }
      ]
    },
    {
      "cell_type": "code",
      "source": [],
      "metadata": {
        "id": "YiuWPvnT8lQK"
      },
      "execution_count": null,
      "outputs": []
    }
  ]
}