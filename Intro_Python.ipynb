{
  "nbformat": 4,
  "nbformat_minor": 0,
  "metadata": {
    "colab": {
      "provenance": [],
      "collapsed_sections": [],
      "include_colab_link": true
    },
    "kernelspec": {
      "name": "python3",
      "display_name": "Python 3"
    },
    "language_info": {
      "name": "python"
    }
  },
  "cells": [
    {
      "cell_type": "markdown",
      "metadata": {
        "id": "view-in-github",
        "colab_type": "text"
      },
      "source": [
        "<a href=\"https://colab.research.google.com/github/DLPY/Python1/blob/main/Intro_Python.ipynb\" target=\"_parent\"><img src=\"https://colab.research.google.com/assets/colab-badge.svg\" alt=\"Open In Colab\"/></a>"
      ]
    },
    {
      "cell_type": "markdown",
      "source": [
        "### Variables & Types"
      ],
      "metadata": {
        "id": "ak_Jj9jhSDTw"
      }
    },
    {
      "cell_type": "markdown",
      "source": [
        "**Integers**\n",
        "\n",
        "*  An integer is a whole number that could hold a zero, positive or negative value\n",
        "*   Integers can be of any length, it is only limited by the memory available.\n",
        "\n",
        "\n"
      ],
      "metadata": {
        "id": "lIR9zlUeOQsh"
      }
    },
    {
      "cell_type": "code",
      "source": [
        "A= 1000\n",
        "A"
      ],
      "metadata": {
        "id": "xTmQ9Z_5SLit"
      },
      "execution_count": null,
      "outputs": []
    },
    {
      "cell_type": "code",
      "source": [
        "B= A+100\n",
        "B"
      ],
      "metadata": {
        "id": "xutQkRvZPRAx"
      },
      "execution_count": null,
      "outputs": []
    },
    {
      "cell_type": "code",
      "source": [
        "print(A,\"is of type \",type(A))\n",
        "print(B,\"is of type \",type(A))"
      ],
      "metadata": {
        "id": "2ZvLnhz9Pbcp"
      },
      "execution_count": null,
      "outputs": []
    },
    {
      "cell_type": "markdown",
      "source": [
        "**Float**\n",
        "*  The float type in Python designates a floating-point number.\n",
        "*   Float values are specified with a decimal point.\n",
        "\n",
        "\n",
        "\n",
        "\n",
        "\n"
      ],
      "metadata": {
        "id": "Q4dalzGssDBY"
      }
    },
    {
      "cell_type": "code",
      "source": [
        "C=-1.100\n",
        "C"
      ],
      "metadata": {
        "id": "glYMHbw6Pm8B"
      },
      "execution_count": null,
      "outputs": []
    },
    {
      "cell_type": "code",
      "source": [
        "print(C,\", is it a float?\",isinstance(C,float))"
      ],
      "metadata": {
        "id": "QPEMu9qlPu3z"
      },
      "execution_count": null,
      "outputs": []
    },
    {
      "cell_type": "code",
      "source": [],
      "metadata": {
        "id": "fMNAibObmeBu"
      },
      "execution_count": null,
      "outputs": []
    },
    {
      "cell_type": "markdown",
      "source": [
        "**Strings**\n",
        "\n",
        "\n",
        "*   Strings are sequences of character data.\n",
        "*   The string type in Python is called str.\n",
        "*   String literals may be delimited using either single or double quotes.\n",
        "*   All the characters between the opening delimiter and matching closing delimiter are part of the string.\n",
        "*   Are immutable."
      ],
      "metadata": {
        "id": "aYQwN8vqUMc2"
      }
    },
    {
      "cell_type": "code",
      "source": [
        "print(\"Hello\")"
      ],
      "metadata": {
        "id": "hp3xsmNcUx6A"
      },
      "execution_count": null,
      "outputs": []
    },
    {
      "cell_type": "code",
      "source": [
        "type(\"Welcome\")"
      ],
      "metadata": {
        "id": "YdG5QklZU87_"
      },
      "execution_count": null,
      "outputs": []
    },
    {
      "cell_type": "markdown",
      "source": [
        "Slice & Dice"
      ],
      "metadata": {
        "id": "Zzrj_mNjm2J5"
      }
    },
    {
      "cell_type": "code",
      "source": [
        "b = \"Hello, World!\"\n",
        "print(b[2:5])\n",
        "print(b[:5])\n",
        "print(b[2:])"
      ],
      "metadata": {
        "id": "RjC47hKUm5Ae"
      },
      "execution_count": null,
      "outputs": []
    },
    {
      "cell_type": "markdown",
      "source": [
        "Modify String"
      ],
      "metadata": {
        "id": "CWPT3TXXxdew"
      }
    },
    {
      "cell_type": "code",
      "source": [
        "a = \" Hello, World!\"\n",
        "a_upper = a.upper() # Capital letters\n",
        "a_lower = a.lower() # Small Letters\n",
        "a_strip = a.strip() # Remove any whitespace from the beginning or the end\n",
        "print(a)\n",
        "print(a_upper)\n",
        "print(a_lower)\n",
        "print(a_strip)"
      ],
      "metadata": {
        "id": "a4jXgaBCxfcR"
      },
      "execution_count": null,
      "outputs": []
    },
    {
      "cell_type": "markdown",
      "source": [
        "String Concatenation"
      ],
      "metadata": {
        "id": "ERxCtXywxo5w"
      }
    },
    {
      "cell_type": "code",
      "source": [
        "a = \"Hello\"\n",
        "b = \"World\"\n",
        "c = a + b\n",
        "c1=a+\" \"+b\n",
        "print(c)\n",
        "print(c1)"
      ],
      "metadata": {
        "id": "S4U8qDBSxq7h"
      },
      "execution_count": null,
      "outputs": []
    },
    {
      "cell_type": "markdown",
      "source": [
        "String Format"
      ],
      "metadata": {
        "id": "Btzycsk0x8ao"
      }
    },
    {
      "cell_type": "code",
      "source": [
        "age = \"36\"\n",
        "txt = \"My name is John, I am \" + age\n",
        "print(txt)"
      ],
      "metadata": {
        "id": "1nbm-SL3x-_2"
      },
      "execution_count": null,
      "outputs": []
    },
    {
      "cell_type": "code",
      "source": [
        "age = 36\n",
        "txt = \"My name is John, and I am {}\"\n",
        "print(txt.format(age))"
      ],
      "metadata": {
        "id": "yDI5RasJygN6"
      },
      "execution_count": null,
      "outputs": []
    },
    {
      "cell_type": "code",
      "source": [
        "quantity = 3\n",
        "itemno = 567\n",
        "price = 49.95\n",
        "myorder = \"I want {} pieces of item {} for {} dollars.\"\n",
        "print(myorder.format(quantity, itemno, price))"
      ],
      "metadata": {
        "id": "JEfC3URCy6ge"
      },
      "execution_count": null,
      "outputs": []
    },
    {
      "cell_type": "markdown",
      "source": [
        "Split Strings"
      ],
      "metadata": {
        "id": "KJhYfu4LzaeQ"
      }
    },
    {
      "cell_type": "code",
      "source": [
        "txt = \"welcome to the jungle\"\n",
        "\n",
        "x = txt.split()\n",
        "\n",
        "print(x)\n",
        "type(x)"
      ],
      "metadata": {
        "id": "DByTYsPHzeGf"
      },
      "execution_count": null,
      "outputs": []
    },
    {
      "cell_type": "code",
      "source": [
        "txt = '''Thank you for the music. Welcome to the jungle'''\n",
        "\n",
        "x = txt.splitlines()\n",
        "\n",
        "print(x)\n",
        "type(x)"
      ],
      "metadata": {
        "id": "1Q6HpPuszh2v"
      },
      "execution_count": null,
      "outputs": []
    },
    {
      "cell_type": "code",
      "source": [
        "txt = \"Thank you for the music\\nWelcome to the jungle\"\n",
        "\n",
        "x = txt.splitlines()\n",
        "\n",
        "print(x)"
      ],
      "metadata": {
        "id": "xkYrRbVuznZ-"
      },
      "execution_count": null,
      "outputs": []
    },
    {
      "cell_type": "code",
      "source": [
        "txt = '''Thank you for the music\n",
        "Welcome to the jungle'''\n",
        "\n",
        "x = txt.splitlines()\n",
        "\n",
        "print(x)"
      ],
      "metadata": {
        "id": "hxwWLJ_ezr-e"
      },
      "execution_count": null,
      "outputs": []
    },
    {
      "cell_type": "markdown",
      "source": [
        "String Replace"
      ],
      "metadata": {
        "id": "txmxCby1zv-2"
      }
    },
    {
      "cell_type": "code",
      "source": [
        "txt = \"I like bananas\"\n",
        "\n",
        "x = txt.replace(\"bananas\", \"apples\")\n",
        "\n",
        "print(x)"
      ],
      "metadata": {
        "id": "38c0nS97z0dn"
      },
      "execution_count": null,
      "outputs": []
    },
    {
      "cell_type": "markdown",
      "source": [
        " Escape Sequences\n"
      ],
      "metadata": {
        "id": "RErAFhGYoDRo"
      }
    },
    {
      "cell_type": "code",
      "source": [
        "print('This string contains a single quote \\'* character.')\n",
        "print ('Doesn\\'t')"
      ],
      "metadata": {
        "id": "2OeLM-UdooSu"
      },
      "execution_count": null,
      "outputs": []
    },
    {
      "cell_type": "markdown",
      "source": [
        "**Caculations**\n",
        "\n",
        "\n",
        "*   The interpreter acts as a simple calculator: you can type an expression at it and it will write the value.\n",
        "\n",
        "*   Expression syntax is straightforward: the operators +, -, * and / work just like in most other languages \n",
        "\n"
      ],
      "metadata": {
        "id": "1AO_BwHIplGq"
      }
    },
    {
      "cell_type": "code",
      "source": [
        "3+3"
      ],
      "metadata": {
        "id": "FEU7Op2__Tx4"
      },
      "execution_count": null,
      "outputs": []
    },
    {
      "cell_type": "code",
      "source": [
        "50 - 5*6"
      ],
      "metadata": {
        "id": "86HHmAsy_eXl"
      },
      "execution_count": null,
      "outputs": []
    },
    {
      "cell_type": "code",
      "source": [
        "(50 - 5*6) / 4      #A division will always return a float"
      ],
      "metadata": {
        "id": "i_zSD-P8__th"
      },
      "execution_count": null,
      "outputs": []
    },
    {
      "cell_type": "code",
      "source": [
        "5**2                #** can be used to calculate powers"
      ],
      "metadata": {
        "id": "oYWd8yq6Aef8"
      },
      "execution_count": null,
      "outputs": []
    },
    {
      "cell_type": "code",
      "source": [
        "#The Modular Operator returns the remainder from a divison\n",
        "print(10%2)\n",
        "print(10%3)"
      ],
      "metadata": {
        "id": "VotwmX61L_hl"
      },
      "execution_count": null,
      "outputs": []
    },
    {
      "cell_type": "code",
      "source": [
        "a = 4\n",
        "b = 5\n",
        "\n",
        "print(a+b)\n",
        "print(a-b)\n",
        "print(a%b)\n",
        "print(a**b)\n"
      ],
      "metadata": {
        "id": "cA0d-myqNHOl"
      },
      "execution_count": null,
      "outputs": []
    },
    {
      "cell_type": "markdown",
      "source": [
        "**Booleans**\n",
        "\n",
        "\n",
        "*   In programming you often need to know if an expression is True or False.\n",
        "*   You can evaluate any expression in Python, and get one of two answers, True or False.\n",
        "\n",
        "*   When you compare two values, the expression is evaluated and Python returns the Boolean answer\n",
        "\n",
        "\n",
        "\n",
        "\n"
      ],
      "metadata": {
        "id": "XDfrw5UQETnv"
      }
    },
    {
      "cell_type": "code",
      "source": [
        "print(10 > 9)\n",
        "print(10 == 9)\n",
        "print(10 < 9)"
      ],
      "metadata": {
        "id": "gxI3NJGIEugg"
      },
      "execution_count": null,
      "outputs": []
    },
    {
      "cell_type": "markdown",
      "source": [
        "When you run a condition in an if statement, Python returns True or False:"
      ],
      "metadata": {
        "id": "3oW3b8V4FsZ-"
      }
    },
    {
      "cell_type": "code",
      "source": [
        "a = 200\n",
        "b = 33\n",
        "\n",
        "if b > a:\n",
        "  print(\"b is greater than a\")\n",
        "elif b == a: \n",
        "  print(\"b equals a\")\n",
        "else:\n",
        "  print(\"b is not greater than a\")"
      ],
      "metadata": {
        "id": "GLvsTQBRUfx-"
      },
      "execution_count": null,
      "outputs": []
    },
    {
      "cell_type": "markdown",
      "source": [
        "*   The bool() function allows you to evaluate any value, and give you True or False in return \n",
        "*   Almost any value is evaluated to True if it has some sort of content.\n",
        "*   Any string is True, except empty strings.\n",
        "*   Any number is True, except 0.\n",
        "\n",
        "\n",
        "\n",
        "\n",
        "\n",
        "\n"
      ],
      "metadata": {
        "id": "RC9LsiMTGOjl"
      }
    },
    {
      "cell_type": "code",
      "source": [
        "bool(\"abc\")\n",
        "\n",
        "\n"
      ],
      "metadata": {
        "id": "d0EwMgMdFKe0"
      },
      "execution_count": null,
      "outputs": []
    },
    {
      "cell_type": "code",
      "source": [
        "bool(123)"
      ],
      "metadata": {
        "id": "y3_A7WYQP7r6"
      },
      "execution_count": null,
      "outputs": []
    },
    {
      "cell_type": "code",
      "source": [
        "bool(0)"
      ],
      "metadata": {
        "id": "yQs5427VJ7RL"
      },
      "execution_count": null,
      "outputs": []
    },
    {
      "cell_type": "code",
      "source": [
        "bool(None)"
      ],
      "metadata": {
        "id": "4Jjf23ydQR6C"
      },
      "execution_count": null,
      "outputs": []
    },
    {
      "cell_type": "code",
      "source": [],
      "metadata": {
        "id": "yqbdUS-TP_hF"
      },
      "execution_count": null,
      "outputs": []
    },
    {
      "cell_type": "markdown",
      "source": [
        "**Boolean Operators**\n",
        "\n",
        "\n",
        "*   == (to check if two values are equal)\n",
        "\n",
        "*   != (to check if two values are not equal)\n",
        "\n",
        "*   <\n",
        "\n",
        "*  \\>\n",
        "\n",
        "\n",
        "*   <=\n",
        "\n",
        "\n",
        "*   \\>=\n",
        "\n",
        "\n",
        "*   and\n",
        "\n",
        "*   or\n",
        "*   not\n",
        "\n",
        "\n",
        "\n"
      ],
      "metadata": {
        "id": "vE3g3da_OmWU"
      }
    },
    {
      "cell_type": "code",
      "source": [
        "Test1=4<5\n",
        "Test1"
      ],
      "metadata": {
        "id": "s5d3GbcQOjh9"
      },
      "execution_count": null,
      "outputs": []
    },
    {
      "cell_type": "code",
      "source": [
        "type(Test1)"
      ],
      "metadata": {
        "id": "1wBjcx6kQqVe"
      },
      "execution_count": null,
      "outputs": []
    },
    {
      "cell_type": "code",
      "source": [
        "Test2= not('M'=='M')\n",
        "Test2"
      ],
      "metadata": {
        "id": "L1C5jDVqQt4F"
      },
      "execution_count": null,
      "outputs": []
    },
    {
      "cell_type": "code",
      "source": [
        "Test1 or Test2"
      ],
      "metadata": {
        "id": "wSoH9YGUR7LW"
      },
      "execution_count": null,
      "outputs": []
    },
    {
      "cell_type": "code",
      "source": [
        "Test1 and Test2"
      ],
      "metadata": {
        "id": "AVHDbI_BSBKi"
      },
      "execution_count": null,
      "outputs": []
    },
    {
      "cell_type": "markdown",
      "source": [
        "###IF Statements"
      ],
      "metadata": {
        "id": "zrPQa-5CSDbQ"
      }
    },
    {
      "cell_type": "markdown",
      "source": [
        "\n",
        "\n",
        "*   The IF statement is a decision-making statement that guides a program to make decisions based on specified criteria. \n",
        "*   The IF statement executes one set of code if a specified condition is met (TRUE) or another set of code evaluates to FALSE\n",
        "\n"
      ],
      "metadata": {
        "id": "lZA1HrnbSc16"
      }
    },
    {
      "cell_type": "code",
      "source": [
        "a = 33\n",
        "b = 200\n",
        "if b > a:\n",
        "  print(\"b is greater than a\")"
      ],
      "metadata": {
        "id": "rlCiVyEZTiLg"
      },
      "execution_count": null,
      "outputs": []
    },
    {
      "cell_type": "markdown",
      "source": [
        "**Elif**\n",
        "*   The elif keyword is pythons way of saying \"if the previous conditions were not true, then try this condition\".\n",
        "\n",
        "\n"
      ],
      "metadata": {
        "id": "z9TMARyQS9--"
      }
    },
    {
      "cell_type": "code",
      "source": [
        "a = 33\n",
        "b = 33\n",
        "if b > a:\n",
        "  print(\"b is greater than a\")\n",
        "elif a == b:\n",
        "  print(\"a and b are equal\")"
      ],
      "metadata": {
        "id": "HhtKJRdJTiTX"
      },
      "execution_count": null,
      "outputs": []
    },
    {
      "cell_type": "markdown",
      "source": [
        "**Else**\n",
        "\n",
        "*  The else keyword catches anything which isn't caught by the preceding conditions.\n",
        "\n",
        "\n"
      ],
      "metadata": {
        "id": "lau4AJ3eTVAK"
      }
    },
    {
      "cell_type": "code",
      "source": [
        "a = 200\n",
        "b = 33\n",
        "if b > a:\n",
        "  print(\"b is greater than a\")\n",
        "elif a == b:\n",
        "  print(\"a and b are equal\")\n",
        "else:\n",
        "  print(\"a is greater than b\")"
      ],
      "metadata": {
        "id": "z5PKhq6gTiWb"
      },
      "execution_count": null,
      "outputs": []
    },
    {
      "cell_type": "markdown",
      "source": [
        "You can have multiple Else statements in the same line"
      ],
      "metadata": {
        "id": "ERBQ0GitTxGh"
      }
    },
    {
      "cell_type": "code",
      "source": [
        "a = 330\n",
        "b = 330\n",
        "print(\"A\") if a > b else print(\"=\") if a == b else print(\"B\")"
      ],
      "metadata": {
        "id": "XwoSw52sTiY5"
      },
      "execution_count": null,
      "outputs": []
    },
    {
      "cell_type": "markdown",
      "source": [
        " **And/Or**\n",
        "*   Both these keywords are logical operators, and are used to combine conditional statements\n"
      ],
      "metadata": {
        "id": "NqTz2alrUgLi"
      }
    },
    {
      "cell_type": "code",
      "source": [
        "a = 200\n",
        "b = 33\n",
        "c = 500\n",
        "if a > b and c > a:\n",
        "  print(\"Both conditions are True\")"
      ],
      "metadata": {
        "id": "7-lFle8yUqf6"
      },
      "execution_count": null,
      "outputs": []
    },
    {
      "cell_type": "code",
      "source": [
        "a = 200\n",
        "b = 33\n",
        "c = 500\n",
        "if a > b or a > c:\n",
        "  print(\"At least one of the conditions is True\")"
      ],
      "metadata": {
        "id": "Ig9J3p9QU9th"
      },
      "execution_count": null,
      "outputs": []
    },
    {
      "cell_type": "markdown",
      "source": [
        "**Nested If**\n",
        "\n",
        "\n",
        "*   An If statement within an If statement is called a Nested If\n",
        "\n",
        "\n"
      ],
      "metadata": {
        "id": "FwnRrzfsUu0x"
      }
    },
    {
      "cell_type": "code",
      "source": [
        "x = 41\n",
        "\n",
        "if x > 10:\n",
        "  print(\"Above ten,\")\n",
        "  if x > 20:\n",
        "    print(\"and also above 20!\")\n",
        "  else:\n",
        "    print(\"but not above 20.\")"
      ],
      "metadata": {
        "id": "Q3VOsMTOVVrx"
      },
      "execution_count": null,
      "outputs": []
    },
    {
      "cell_type": "markdown",
      "source": [
        "### For / While"
      ],
      "metadata": {
        "id": "iUNQPYEHSDem"
      }
    },
    {
      "cell_type": "markdown",
      "source": [
        "**The While Loop**\n",
        "\n",
        "*   The while loop in Python is used to iterate over a block of code as long as the test expression (condition) is true.\n",
        "*   We generally use this loop when we don't know the number of times to iterate beforehand\n",
        "\n"
      ],
      "metadata": {
        "id": "q4WgwK9iVnzM"
      }
    },
    {
      "cell_type": "code",
      "source": [
        "while False:\n",
        "  print(\"Hello\")"
      ],
      "metadata": {
        "id": "7mfoZvGsTjYq"
      },
      "execution_count": null,
      "outputs": []
    },
    {
      "cell_type": "code",
      "source": [
        "counter=0\n",
        "while counter<15:\n",
        "  print('Hello ',counter)\n",
        "  counter=counter+1"
      ],
      "metadata": {
        "id": "P_4pHJsDTjcE"
      },
      "execution_count": null,
      "outputs": []
    },
    {
      "cell_type": "markdown",
      "source": [
        "**The For Loop**\n",
        "\n",
        "\n",
        "* A for loop in Python is a control flow statement that is used to repeatedly execute a group of statements as long as the condition is satisfied.\n",
        "\n",
        "\n"
      ],
      "metadata": {
        "id": "_U5lHOMup7XD"
      }
    },
    {
      "cell_type": "code",
      "source": [
        "for i in range(5):\n",
        "  print(\"Hello Python\")"
      ],
      "metadata": {
        "id": "Z1gsU85cTjfV"
      },
      "execution_count": null,
      "outputs": []
    },
    {
      "cell_type": "code",
      "source": [
        "mytestlist=[20,200,2000]\n",
        "mytestlist"
      ],
      "metadata": {
        "id": "qN70u9w3TjiN"
      },
      "execution_count": null,
      "outputs": []
    },
    {
      "cell_type": "code",
      "source": [],
      "metadata": {
        "id": "_r8UNDsa7Nv7"
      },
      "execution_count": null,
      "outputs": []
    },
    {
      "cell_type": "code",
      "source": [
        "for check in mytestlist:\n",
        "  print(\"My check: \",check)"
      ],
      "metadata": {
        "id": "E9VCIwbXTgsI"
      },
      "execution_count": null,
      "outputs": []
    },
    {
      "cell_type": "code",
      "source": [],
      "metadata": {
        "id": "AXa33o-H7dle"
      },
      "execution_count": null,
      "outputs": []
    },
    {
      "cell_type": "code",
      "source": [],
      "metadata": {
        "id": "IjO9ss7G7OCq"
      },
      "execution_count": null,
      "outputs": []
    },
    {
      "cell_type": "code",
      "source": [
        "#Bringing it all together \n",
        "\n",
        "namelist = [\"Joe\",\"Mary\",\"Dave\",\"Patrick\",\"Kate\",\"James\",\"Lorna\",\"Marissa\",\"Tony\",\"Chris\"]\n",
        "ageList = [21,5,23,38,5,16,18,8,9,11]\n",
        "k = 0\n",
        "Agefinal=\"{} is {} years old and is a {}\"\n",
        "for i in namelist:\n",
        "        if ageList[k] > 17: \n",
        "          a = \"adult\" \n",
        "        else: \n",
        "          a = \"child\"\n",
        "        print(Agefinal.format(i, ageList[k], a))\n",
        "        k += 1"
      ],
      "metadata": {
        "id": "dBs7_rSG7ZIT"
      },
      "execution_count": null,
      "outputs": []
    },
    {
      "cell_type": "code",
      "source": [],
      "metadata": {
        "id": "YiuWPvnT8lQK"
      },
      "execution_count": null,
      "outputs": []
    }
  ]
}