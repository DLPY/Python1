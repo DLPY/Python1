{
  "cells": [
    {
      "cell_type": "markdown",
      "metadata": {
        "id": "view-in-github",
        "colab_type": "text"
      },
      "source": [
        "<a href=\"https://colab.research.google.com/github/DLPY/Python1/blob/main/Intro_Dictionary.ipynb\" target=\"_parent\"><img src=\"https://colab.research.google.com/assets/colab-badge.svg\" alt=\"Open In Colab\"/></a>"
      ]
    },
    {
      "cell_type": "markdown",
      "id": "c68b7f0e",
      "metadata": {
        "id": "c68b7f0e"
      },
      "source": [
        "# Dictionary"
      ]
    },
    {
      "cell_type": "markdown",
      "id": "fb9e7082",
      "metadata": {
        "id": "fb9e7082"
      },
      "source": [
        "### Dictionary"
      ]
    },
    {
      "cell_type": "markdown",
      "id": "2967ccad",
      "metadata": {
        "id": "2967ccad"
      },
      "source": [
        "#Create dictionary"
      ]
    },
    {
      "cell_type": "code",
      "execution_count": null,
      "id": "92a5944e",
      "metadata": {
        "scrolled": true,
        "id": "92a5944e"
      },
      "outputs": [],
      "source": [
        "thisdict = {\n",
        "  \"brand\": \"Ford\",\n",
        "  \"model\": \"Mustang\",\n",
        "  \"year\": 1964\n",
        "}\n",
        "print(thisdict)"
      ]
    },
    {
      "cell_type": "markdown",
      "id": "d84470c6",
      "metadata": {
        "id": "d84470c6"
      },
      "source": [
        "#Duplicate values will overwrite existing values:"
      ]
    },
    {
      "cell_type": "code",
      "execution_count": null,
      "id": "7e14e2bd",
      "metadata": {
        "id": "7e14e2bd"
      },
      "outputs": [],
      "source": [
        "thisdict = {\n",
        "  \"brand\": \"Ford\",\n",
        "  \"model\": \"Mustang\",\n",
        "  \"year\": 1964,\n",
        "  \"model\": \"2020\"\n",
        "}\n",
        "print(thisdict)\n"
      ]
    },
    {
      "cell_type": "markdown",
      "id": "afb3a60d",
      "metadata": {
        "id": "afb3a60d"
      },
      "source": [
        "#Print the number of items in the dictionary:"
      ]
    },
    {
      "cell_type": "code",
      "execution_count": null,
      "id": "484b93f0",
      "metadata": {
        "id": "484b93f0"
      },
      "outputs": [],
      "source": [
        "print(len(thisdict))"
      ]
    },
    {
      "cell_type": "markdown",
      "id": "5d49e7f8",
      "metadata": {
        "id": "5d49e7f8"
      },
      "source": [
        "#Accessing Items\n",
        "#Get the value of the \"model\" key:\n"
      ]
    },
    {
      "cell_type": "code",
      "execution_count": null,
      "id": "a8461abe-1ea8-464f-9d9b-d14e0839ace6",
      "metadata": {
        "id": "a8461abe-1ea8-464f-9d9b-d14e0839ace6"
      },
      "outputs": [],
      "source": [
        "\n",
        "thisdict = {\n",
        "  \"brand\": \"Ford\",\n",
        "  \"model\": \"Mustang\",\n",
        "  \"year\": 1964\n",
        "}\n",
        "x = thisdict[\"year\"]\n",
        "x"
      ]
    },
    {
      "cell_type": "markdown",
      "id": "0b4105f5",
      "metadata": {
        "id": "0b4105f5"
      },
      "source": [
        "#Get the value of the \"model\" key:\n"
      ]
    },
    {
      "cell_type": "code",
      "execution_count": null,
      "id": "df20657e-59aa-4d8d-b61f-a6f62b2fc270",
      "metadata": {
        "id": "df20657e-59aa-4d8d-b61f-a6f62b2fc270"
      },
      "outputs": [],
      "source": [
        "\n",
        "x = thisdict.get(\"model\")\n",
        "x"
      ]
    },
    {
      "cell_type": "markdown",
      "id": "a5269502",
      "metadata": {
        "id": "a5269502"
      },
      "source": [
        "#Get a list of the keys:\n"
      ]
    },
    {
      "cell_type": "code",
      "execution_count": null,
      "id": "b31ab792-d23c-4386-aaac-70f8359b4ae5",
      "metadata": {
        "id": "b31ab792-d23c-4386-aaac-70f8359b4ae5"
      },
      "outputs": [],
      "source": [
        "\n",
        "x = thisdict.keys()\n",
        "x"
      ]
    },
    {
      "cell_type": "markdown",
      "id": "ce0974b2",
      "metadata": {
        "id": "ce0974b2"
      },
      "source": [
        "#Add a new item to the original dictionary, and see that the keys list gets updated as well:\n"
      ]
    },
    {
      "cell_type": "code",
      "execution_count": null,
      "id": "dfefab42-44a6-4018-9100-c090f809704b",
      "metadata": {
        "id": "dfefab42-44a6-4018-9100-c090f809704b"
      },
      "outputs": [],
      "source": [
        "\n",
        "car = {\n",
        "\"brand\": \"Ford\",\n",
        "\"model\": \"Mustang\",\n",
        "\"year\": 1964\n",
        "}\n",
        "\n",
        "x = car.keys()\n",
        "\n",
        "print(x) #before the change\n",
        "\n",
        "car[\"color\"] = \"white\"\n",
        "\n",
        "print(x) #after the change"
      ]
    },
    {
      "cell_type": "markdown",
      "id": "9cd8127e",
      "metadata": {
        "id": "9cd8127e"
      },
      "source": [
        "#Get a list of the values:\n"
      ]
    },
    {
      "cell_type": "code",
      "execution_count": null,
      "id": "ac70a3cb-ad46-4e65-b6aa-030d6e9bb140",
      "metadata": {
        "id": "ac70a3cb-ad46-4e65-b6aa-030d6e9bb140"
      },
      "outputs": [],
      "source": [
        "\n",
        "x = thisdict.values()\n",
        "x"
      ]
    },
    {
      "cell_type": "markdown",
      "id": "4dfdc72b",
      "metadata": {
        "id": "4dfdc72b"
      },
      "source": [
        "#Make a change in the original dictionary, and see that the values list gets updated as well:\n"
      ]
    },
    {
      "cell_type": "code",
      "execution_count": null,
      "id": "89490716-93a5-4b1a-acae-625a5b85c54b",
      "metadata": {
        "id": "89490716-93a5-4b1a-acae-625a5b85c54b"
      },
      "outputs": [],
      "source": [
        "\n",
        "car = {\n",
        "\"brand\": \"Ford\",\n",
        "\"model\": \"Mustang\",\n",
        "\"year\": 1964\n",
        "}\n",
        "\n",
        "x = car.values()\n",
        "\n",
        "print(x) #before the change\n",
        "\n",
        "car[\"year\"] = 2020\n",
        "\n",
        "print(x) #after the change"
      ]
    },
    {
      "cell_type": "markdown",
      "id": "2c414b08",
      "metadata": {
        "id": "2c414b08"
      },
      "source": [
        "#Add a new item to the original dictionary, and see that the values list gets updated as well:\n"
      ]
    },
    {
      "cell_type": "code",
      "execution_count": null,
      "id": "1f373f7b-4ec6-4c4e-9a45-c24343a38673",
      "metadata": {
        "id": "1f373f7b-4ec6-4c4e-9a45-c24343a38673"
      },
      "outputs": [],
      "source": [
        "\n",
        "car = {\n",
        "\"brand\": \"Ford\",\n",
        "\"model\": \"Mustang\",\n",
        "\"year\": 1964\n",
        "}\n",
        "\n",
        "x = car.values()\n",
        "\n",
        "print(x) #before the change\n",
        "\n",
        "car[\"color\"] = \"red\"\n",
        "\n",
        "print(x) #after the change"
      ]
    },
    {
      "cell_type": "markdown",
      "id": "a8790472",
      "metadata": {
        "id": "a8790472"
      },
      "source": [
        "#Get a list of the key:value pairs"
      ]
    },
    {
      "cell_type": "code",
      "execution_count": null,
      "id": "5c09c6fd-4f5b-4f2e-a8b4-088060fe62d9",
      "metadata": {
        "id": "5c09c6fd-4f5b-4f2e-a8b4-088060fe62d9"
      },
      "outputs": [],
      "source": [
        "\n",
        "\n",
        "x = thisdict.items()\n",
        "x"
      ]
    },
    {
      "cell_type": "markdown",
      "id": "f4e2a3e1",
      "metadata": {
        "id": "f4e2a3e1"
      },
      "source": [
        "#Make a change in the original dictionary, and see that the items list gets updated as well:\n"
      ]
    },
    {
      "cell_type": "code",
      "execution_count": null,
      "id": "bebdb94b-2067-4fde-830d-5e9f07458e15",
      "metadata": {
        "id": "bebdb94b-2067-4fde-830d-5e9f07458e15"
      },
      "outputs": [],
      "source": [
        "\n",
        "car = {\n",
        "\"brand\": \"Ford\",\n",
        "\"model\": \"Mustang\",\n",
        "\"year\": 1964\n",
        "}\n",
        "\n",
        "x = car.items()\n",
        "\n",
        "print(x) #before the change\n",
        "\n",
        "car[\"year\"] = 2020\n",
        "\n",
        "print(x) #after the change"
      ]
    },
    {
      "cell_type": "markdown",
      "id": "93cfcddb",
      "metadata": {
        "id": "93cfcddb"
      },
      "source": [
        "#Check if \"model\" is present in the dictionary:"
      ]
    },
    {
      "cell_type": "code",
      "execution_count": null,
      "id": "8aa18502-2fca-4f7a-bb76-4ab58cb86c20",
      "metadata": {
        "id": "8aa18502-2fca-4f7a-bb76-4ab58cb86c20"
      },
      "outputs": [],
      "source": [
        "'''\n",
        "\n",
        "thisdict = {\n",
        "  \"brand\": \"Ford\",\n",
        "  \"model\": \"Mustang\",\n",
        "  \"year\": 1964\n",
        "}'''\n",
        "if \"model\" in thisdict:\n",
        "  print(\"Yes, 'model' is one of the keys in the thisdict dictionary\")"
      ]
    },
    {
      "cell_type": "markdown",
      "id": "c44f3452",
      "metadata": {
        "id": "c44f3452"
      },
      "source": [
        "#Update the \"year\" of the car by using the update() method:\n"
      ]
    },
    {
      "cell_type": "code",
      "execution_count": null,
      "id": "3b75e2d4-c62f-4b21-b19a-b9d0d8221b01",
      "metadata": {
        "id": "3b75e2d4-c62f-4b21-b19a-b9d0d8221b01"
      },
      "outputs": [],
      "source": [
        "\n",
        "thisdict = {\n",
        "  \"brand\": \"Ford\",\n",
        "  \"model\": \"Mustang\",\n",
        "  \"year\": 1964\n",
        "}\n",
        "thisdict.update({\"year\": 2020})\n",
        "print(thisdict)"
      ]
    },
    {
      "cell_type": "code",
      "execution_count": null,
      "id": "736742e7-8642-47b9-88b5-6ef3f0d6fee9",
      "metadata": {
        "id": "736742e7-8642-47b9-88b5-6ef3f0d6fee9"
      },
      "outputs": [],
      "source": []
    },
    {
      "cell_type": "code",
      "execution_count": null,
      "id": "85d3ef05-2df0-434d-a4e6-f4c82aacae3f",
      "metadata": {
        "id": "85d3ef05-2df0-434d-a4e6-f4c82aacae3f"
      },
      "outputs": [],
      "source": []
    },
    {
      "cell_type": "code",
      "execution_count": null,
      "id": "9ce759ff-815f-4d81-a962-8473e689d2d2",
      "metadata": {
        "id": "9ce759ff-815f-4d81-a962-8473e689d2d2"
      },
      "outputs": [],
      "source": []
    }
  ],
  "metadata": {
    "kernelspec": {
      "display_name": "Python 3 (ipykernel)",
      "language": "python",
      "name": "python3"
    },
    "language_info": {
      "codemirror_mode": {
        "name": "ipython",
        "version": 3
      },
      "file_extension": ".py",
      "mimetype": "text/x-python",
      "name": "python",
      "nbconvert_exporter": "python",
      "pygments_lexer": "ipython3",
      "version": "3.9.7"
    },
    "colab": {
      "provenance": [],
      "collapsed_sections": [],
      "include_colab_link": true
    }
  },
  "nbformat": 4,
  "nbformat_minor": 5
}