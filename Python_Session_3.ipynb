{
  "nbformat": 4,
  "nbformat_minor": 0,
  "metadata": {
    "colab": {
      "provenance": [],
      "collapsed_sections": [],
      "authorship_tag": "ABX9TyMaBPfl57bv6YK2CKlwGVf6",
      "include_colab_link": true
    },
    "kernelspec": {
      "name": "python3",
      "display_name": "Python 3"
    },
    "language_info": {
      "name": "python"
    }
  },
  "cells": [
    {
      "cell_type": "markdown",
      "metadata": {
        "id": "view-in-github",
        "colab_type": "text"
      },
      "source": [
        "<a href=\"https://colab.research.google.com/github/DLPY/Python1/blob/main/Python_Session_3.ipynb\" target=\"_parent\"><img src=\"https://colab.research.google.com/assets/colab-badge.svg\" alt=\"Open In Colab\"/></a>"
      ]
    },
    {
      "cell_type": "markdown",
      "source": [
        "### String Manipulation"
      ],
      "metadata": {
        "id": "TFgZfyOYdTS2"
      }
    },
    {
      "cell_type": "markdown",
      "source": [
        "Slice & Dice"
      ],
      "metadata": {
        "id": "Zzrj_mNjm2J5"
      }
    },
    {
      "cell_type": "code",
      "source": [
        "b = \"Hello, World!\"\n",
        "print(b[2:5])\n",
        "print(b[:5])\n",
        "print(b[2:])"
      ],
      "metadata": {
        "id": "RjC47hKUm5Ae"
      },
      "execution_count": null,
      "outputs": []
    },
    {
      "cell_type": "markdown",
      "source": [
        "Modify String"
      ],
      "metadata": {
        "id": "CWPT3TXXxdew"
      }
    },
    {
      "cell_type": "code",
      "source": [
        "a = \" Hello, World!\"\n",
        "a_upper = a.upper() # Capital letters\n",
        "a_lower = a.lower() # Small Letters\n",
        "a_strip = a.strip() # Remove any whitespace from the beginning or the end\n",
        "print(a)\n",
        "print(a_upper)\n",
        "print(a_lower)\n",
        "print(a_strip)"
      ],
      "metadata": {
        "id": "a4jXgaBCxfcR"
      },
      "execution_count": null,
      "outputs": []
    },
    {
      "cell_type": "markdown",
      "source": [
        "String Concatenation"
      ],
      "metadata": {
        "id": "ERxCtXywxo5w"
      }
    },
    {
      "cell_type": "code",
      "source": [
        "a = \"Hello\"\n",
        "b = \"World\"\n",
        "c = a + b\n",
        "c1=a+\" \"+b\n",
        "print(c)\n",
        "print(c1)"
      ],
      "metadata": {
        "id": "S4U8qDBSxq7h"
      },
      "execution_count": null,
      "outputs": []
    },
    {
      "cell_type": "markdown",
      "source": [
        "String Format"
      ],
      "metadata": {
        "id": "Btzycsk0x8ao"
      }
    },
    {
      "cell_type": "code",
      "source": [
        "age = \"36\"\n",
        "txt = \"My name is John, I am \" + age\n",
        "print(txt)"
      ],
      "metadata": {
        "id": "1nbm-SL3x-_2"
      },
      "execution_count": null,
      "outputs": []
    },
    {
      "cell_type": "code",
      "source": [
        "age = 36\n",
        "txt = \"My name is John, and I am {}\"\n",
        "print(txt.format(age))"
      ],
      "metadata": {
        "id": "yDI5RasJygN6"
      },
      "execution_count": null,
      "outputs": []
    },
    {
      "cell_type": "code",
      "source": [
        "quantity = 3\n",
        "itemno = 567\n",
        "price = 49.95\n",
        "myorder = \"I want {} pieces of item {} for {} dollars.\"\n",
        "print(myorder.format(quantity, itemno, price))"
      ],
      "metadata": {
        "id": "JEfC3URCy6ge"
      },
      "execution_count": null,
      "outputs": []
    },
    {
      "cell_type": "markdown",
      "source": [
        "Split Strings"
      ],
      "metadata": {
        "id": "KJhYfu4LzaeQ"
      }
    },
    {
      "cell_type": "code",
      "source": [
        "txt = \"welcome to the jungle\"\n",
        "\n",
        "x = txt.split()\n",
        "\n",
        "print(x)\n",
        "type(x)"
      ],
      "metadata": {
        "id": "DByTYsPHzeGf"
      },
      "execution_count": null,
      "outputs": []
    },
    {
      "cell_type": "code",
      "source": [
        "txt = '''Thank you for the music. Welcome to the jungle'''\n",
        "\n",
        "x = txt.splitlines()\n",
        "\n",
        "print(x)\n",
        "type(x)"
      ],
      "metadata": {
        "id": "1Q6HpPuszh2v"
      },
      "execution_count": null,
      "outputs": []
    },
    {
      "cell_type": "code",
      "source": [
        "txt = \"Thank you for the music\\nWelcome to the jungle\"\n",
        "\n",
        "x = txt.splitlines()\n",
        "\n",
        "print(x)"
      ],
      "metadata": {
        "id": "xkYrRbVuznZ-"
      },
      "execution_count": null,
      "outputs": []
    },
    {
      "cell_type": "code",
      "source": [
        "txt = '''Thank you for the music\n",
        "Welcome to the jungle'''\n",
        "\n",
        "x = txt.splitlines()\n",
        "\n",
        "print(x)"
      ],
      "metadata": {
        "id": "hxwWLJ_ezr-e"
      },
      "execution_count": null,
      "outputs": []
    },
    {
      "cell_type": "markdown",
      "source": [
        "String Replace"
      ],
      "metadata": {
        "id": "txmxCby1zv-2"
      }
    },
    {
      "cell_type": "code",
      "source": [
        "txt = \"I like bananas\"\n",
        "\n",
        "x = txt.replace(\"bananas\", \"apples\")\n",
        "\n",
        "print(x)"
      ],
      "metadata": {
        "id": "38c0nS97z0dn"
      },
      "execution_count": null,
      "outputs": []
    },
    {
      "cell_type": "markdown",
      "source": [
        " Escape Sequences\n"
      ],
      "metadata": {
        "id": "RErAFhGYoDRo"
      }
    },
    {
      "cell_type": "code",
      "source": [
        "print('This string contains a single quote \\'* character.')\n",
        "print ('Doesn\\'t')"
      ],
      "metadata": {
        "id": "2OeLM-UdooSu"
      },
      "execution_count": null,
      "outputs": []
    },
    {
      "cell_type": "markdown",
      "source": [
        "###IF Statements"
      ],
      "metadata": {
        "id": "zrPQa-5CSDbQ"
      }
    },
    {
      "cell_type": "markdown",
      "source": [
        "\n",
        "\n",
        "*   The IF statement is a decision-making statement that guides a program to make decisions based on specified criteria. \n",
        "*   The IF statement executes one set of code if a specified condition is met (TRUE) or another set of code evaluates to FALSE\n",
        "\n"
      ],
      "metadata": {
        "id": "lZA1HrnbSc16"
      }
    },
    {
      "cell_type": "code",
      "source": [
        "a = 33\n",
        "b = 200\n",
        "if b > a:\n",
        "  print(\"b is greater than a\")"
      ],
      "metadata": {
        "id": "rlCiVyEZTiLg"
      },
      "execution_count": null,
      "outputs": []
    },
    {
      "cell_type": "markdown",
      "source": [
        "**Elif**\n",
        "*   The elif keyword is pythons way of saying \"if the previous conditions were not true, then try this condition\".\n",
        "\n",
        "\n"
      ],
      "metadata": {
        "id": "z9TMARyQS9--"
      }
    },
    {
      "cell_type": "code",
      "source": [
        "a = 33\n",
        "b = 33\n",
        "if b > a:\n",
        "  print(\"b is greater than a\")\n",
        "elif a == b:\n",
        "  print(\"a and b are equal\")"
      ],
      "metadata": {
        "id": "HhtKJRdJTiTX"
      },
      "execution_count": null,
      "outputs": []
    },
    {
      "cell_type": "markdown",
      "source": [
        "**Else**\n",
        "\n",
        "*  The else keyword catches anything which isn't caught by the preceding conditions.\n",
        "\n",
        "\n"
      ],
      "metadata": {
        "id": "lau4AJ3eTVAK"
      }
    },
    {
      "cell_type": "code",
      "source": [
        "a = 200\n",
        "b = 33\n",
        "if b > a:\n",
        "  print(\"b is greater than a\")\n",
        "elif a == b:\n",
        "  print(\"a and b are equal\")\n",
        "else:\n",
        "  print(\"a is greater than b\")"
      ],
      "metadata": {
        "id": "z5PKhq6gTiWb"
      },
      "execution_count": null,
      "outputs": []
    },
    {
      "cell_type": "markdown",
      "source": [
        "You can have multiple Else statements in the same line"
      ],
      "metadata": {
        "id": "ERBQ0GitTxGh"
      }
    },
    {
      "cell_type": "code",
      "source": [
        "a = 330\n",
        "b = 330\n",
        "print(\"A\") if a > b else print(\"=\") if a == b else print(\"B\")"
      ],
      "metadata": {
        "id": "XwoSw52sTiY5"
      },
      "execution_count": null,
      "outputs": []
    },
    {
      "cell_type": "markdown",
      "source": [
        " **And/Or**\n",
        "*   Both these keywords are logical operators, and are used to combine conditional statements\n"
      ],
      "metadata": {
        "id": "NqTz2alrUgLi"
      }
    },
    {
      "cell_type": "code",
      "source": [
        "a = 200\n",
        "b = 33\n",
        "c = 500\n",
        "if a > b and c > a:\n",
        "  print(\"Both conditions are True\")"
      ],
      "metadata": {
        "id": "7-lFle8yUqf6"
      },
      "execution_count": null,
      "outputs": []
    },
    {
      "cell_type": "code",
      "source": [
        "a = 200\n",
        "b = 33\n",
        "c = 500\n",
        "if a > b or a > c:\n",
        "  print(\"At least one of the conditions is True\")"
      ],
      "metadata": {
        "id": "Ig9J3p9QU9th"
      },
      "execution_count": null,
      "outputs": []
    },
    {
      "cell_type": "markdown",
      "source": [
        "**Nested If**\n",
        "\n",
        "\n",
        "*   An If statement within an If statement is called a Nested If\n",
        "\n",
        "\n"
      ],
      "metadata": {
        "id": "FwnRrzfsUu0x"
      }
    },
    {
      "cell_type": "code",
      "source": [
        "x = 41\n",
        "\n",
        "if x > 10:\n",
        "  print(\"Above ten,\")\n",
        "  if x > 20:\n",
        "    print(\"and also above 20!\")\n",
        "  else:\n",
        "    print(\"but not above 20.\")"
      ],
      "metadata": {
        "id": "Q3VOsMTOVVrx"
      },
      "execution_count": null,
      "outputs": []
    },
    {
      "cell_type": "markdown",
      "source": [
        "### For / While"
      ],
      "metadata": {
        "id": "iUNQPYEHSDem"
      }
    },
    {
      "cell_type": "markdown",
      "source": [
        "**The While Loop**\n",
        "\n",
        "*   The while loop in Python is used to iterate over a block of code as long as the test expression (condition) is true.\n",
        "*   We generally use this loop when we don't know the number of times to iterate beforehand\n",
        "\n"
      ],
      "metadata": {
        "id": "q4WgwK9iVnzM"
      }
    },
    {
      "cell_type": "code",
      "source": [
        "while False:\n",
        "  print(\"Hello\")"
      ],
      "metadata": {
        "id": "7mfoZvGsTjYq"
      },
      "execution_count": null,
      "outputs": []
    },
    {
      "cell_type": "code",
      "source": [
        "counter=0\n",
        "while counter<15:\n",
        "  print('Hello ',counter)\n",
        "  counter=counter+1"
      ],
      "metadata": {
        "id": "P_4pHJsDTjcE"
      },
      "execution_count": null,
      "outputs": []
    },
    {
      "cell_type": "markdown",
      "source": [
        "**The For Loop**\n",
        "\n",
        "\n",
        "* A for loop in Python is a control flow statement that is used to repeatedly execute a group of statements as long as the condition is satisfied.\n",
        "\n",
        "\n"
      ],
      "metadata": {
        "id": "_U5lHOMup7XD"
      }
    },
    {
      "cell_type": "code",
      "source": [
        "for i in range(5):\n",
        "  print(\"Hello Python\")"
      ],
      "metadata": {
        "id": "Z1gsU85cTjfV"
      },
      "execution_count": null,
      "outputs": []
    },
    {
      "cell_type": "code",
      "source": [
        "mytestlist=[20,200,2000]\n",
        "mytestlist"
      ],
      "metadata": {
        "id": "qN70u9w3TjiN"
      },
      "execution_count": null,
      "outputs": []
    },
    {
      "cell_type": "code",
      "source": [
        "for check in mytestlist:\n",
        "  print(\"My check: \",check)"
      ],
      "metadata": {
        "id": "E9VCIwbXTgsI"
      },
      "execution_count": null,
      "outputs": []
    },
    {
      "cell_type": "code",
      "source": [
        "#Bringing it all together \n",
        "\n",
        "namelist = [\"Joe\",\"Mary\",\"Dave\",\"Patrick\",\"Kate\",\"James\",\"Lorna\",\"Marissa\",\"Tony\",\"Chris\"]\n",
        "ageList = [21,5,23,38,5,16,18,8,9,11]\n",
        "k = 0\n",
        "Agefinal=\"{} is {} years old and is a {}\"\n",
        "for i in namelist:\n",
        "        if ageList[k] > 17: \n",
        "          a = \"adult\" \n",
        "        else: \n",
        "          a = \"child\"\n",
        "        print(Agefinal.format(i, ageList[k], a))\n",
        "        k += 1"
      ],
      "metadata": {
        "id": "dBs7_rSG7ZIT"
      },
      "execution_count": null,
      "outputs": []
    }
  ]
}