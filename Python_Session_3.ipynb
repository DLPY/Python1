{
  "nbformat": 4,
  "nbformat_minor": 0,
  "metadata": {
    "colab": {
      "provenance": [],
      "collapsed_sections": [],
      "authorship_tag": "ABX9TyPEbdoaoWjqx9gcOzlzw0CG",
      "include_colab_link": true
    },
    "kernelspec": {
      "name": "python3",
      "display_name": "Python 3"
    },
    "language_info": {
      "name": "python"
    }
  },
  "cells": [
    {
      "cell_type": "markdown",
      "metadata": {
        "id": "view-in-github",
        "colab_type": "text"
      },
      "source": [
        "<a href=\"https://colab.research.google.com/github/DLPY/Python1/blob/main/Python_Session_3.ipynb\" target=\"_parent\"><img src=\"https://colab.research.google.com/assets/colab-badge.svg\" alt=\"Open In Colab\"/></a>"
      ]
    },
    {
      "cell_type": "markdown",
      "source": [
        "###IF Statements"
      ],
      "metadata": {
        "id": "zrPQa-5CSDbQ"
      }
    },
    {
      "cell_type": "markdown",
      "source": [
        "\n",
        "\n",
        "*   The IF statement is a decision-making statement that guides a program to make decisions based on specified criteria. \n",
        "*   The IF statement executes one set of code if a specified condition is met (TRUE) or another set of code evaluates to FALSE\n",
        "\n"
      ],
      "metadata": {
        "id": "lZA1HrnbSc16"
      }
    },
    {
      "cell_type": "code",
      "source": [
        "a = 33\n",
        "b = 200\n",
        "if b > a:\n",
        "  print(\"b is greater than a\")"
      ],
      "metadata": {
        "id": "rlCiVyEZTiLg"
      },
      "execution_count": null,
      "outputs": []
    },
    {
      "cell_type": "markdown",
      "source": [
        "**Elif**\n",
        "*   The elif keyword is pythons way of saying \"if the previous conditions were not true, then try this condition\".\n",
        "\n",
        "\n"
      ],
      "metadata": {
        "id": "z9TMARyQS9--"
      }
    },
    {
      "cell_type": "code",
      "source": [
        "a = 33\n",
        "b = 33\n",
        "if b > a:\n",
        "  print(\"b is greater than a\")\n",
        "elif a == b:\n",
        "  print(\"a and b are equal\")"
      ],
      "metadata": {
        "id": "HhtKJRdJTiTX"
      },
      "execution_count": null,
      "outputs": []
    },
    {
      "cell_type": "markdown",
      "source": [
        "**Else**\n",
        "\n",
        "*  The else keyword catches anything which isn't caught by the preceding conditions.\n",
        "\n",
        "\n"
      ],
      "metadata": {
        "id": "lau4AJ3eTVAK"
      }
    },
    {
      "cell_type": "code",
      "source": [
        "a = 200\n",
        "b = 33\n",
        "if b > a:\n",
        "  print(\"b is greater than a\")\n",
        "elif a == b:\n",
        "  print(\"a and b are equal\")\n",
        "else:\n",
        "  print(\"a is greater than b\")"
      ],
      "metadata": {
        "id": "z5PKhq6gTiWb"
      },
      "execution_count": null,
      "outputs": []
    },
    {
      "cell_type": "markdown",
      "source": [
        "You can have multiple Else statements in the same line"
      ],
      "metadata": {
        "id": "ERBQ0GitTxGh"
      }
    },
    {
      "cell_type": "code",
      "source": [
        "a = 330\n",
        "b = 330\n",
        "print(\"A\") if a > b else print(\"=\") if a == b else print(\"B\")"
      ],
      "metadata": {
        "id": "XwoSw52sTiY5"
      },
      "execution_count": null,
      "outputs": []
    },
    {
      "cell_type": "markdown",
      "source": [
        " **And/Or**\n",
        "*   Both these keywords are logical operators, and are used to combine conditional statements\n"
      ],
      "metadata": {
        "id": "NqTz2alrUgLi"
      }
    },
    {
      "cell_type": "code",
      "source": [
        "a = 200\n",
        "b = 33\n",
        "c = 500\n",
        "if a > b and c > a:\n",
        "  print(\"Both conditions are True\")"
      ],
      "metadata": {
        "id": "7-lFle8yUqf6"
      },
      "execution_count": null,
      "outputs": []
    },
    {
      "cell_type": "code",
      "source": [
        "a = 200\n",
        "b = 33\n",
        "c = 500\n",
        "if a > b or a > c:\n",
        "  print(\"At least one of the conditions is True\")"
      ],
      "metadata": {
        "id": "Ig9J3p9QU9th"
      },
      "execution_count": null,
      "outputs": []
    },
    {
      "cell_type": "markdown",
      "source": [
        "**Nested If**\n",
        "\n",
        "\n",
        "*   An If statement within an If statement is called a Nested If\n",
        "\n",
        "\n"
      ],
      "metadata": {
        "id": "FwnRrzfsUu0x"
      }
    },
    {
      "cell_type": "code",
      "source": [
        "x = 41\n",
        "\n",
        "if x > 10:\n",
        "  print(\"Above ten,\")\n",
        "  if x > 20:\n",
        "    print(\"and also above 20!\")\n",
        "  else:\n",
        "    print(\"but not above 20.\")"
      ],
      "metadata": {
        "id": "Q3VOsMTOVVrx"
      },
      "execution_count": null,
      "outputs": []
    },
    {
      "cell_type": "markdown",
      "source": [
        "### For / While"
      ],
      "metadata": {
        "id": "iUNQPYEHSDem"
      }
    },
    {
      "cell_type": "markdown",
      "source": [
        "**The While Loop**\n",
        "\n",
        "*   The while loop in Python is used to iterate over a block of code as long as the test expression (condition) is true.\n",
        "*   We generally use this loop when we don't know the number of times to iterate beforehand\n",
        "\n"
      ],
      "metadata": {
        "id": "q4WgwK9iVnzM"
      }
    },
    {
      "cell_type": "code",
      "source": [
        "while False:\n",
        "  print(\"Hello\")"
      ],
      "metadata": {
        "id": "7mfoZvGsTjYq"
      },
      "execution_count": null,
      "outputs": []
    },
    {
      "cell_type": "code",
      "source": [
        "counter=0\n",
        "while counter<15:\n",
        "  print('Hello ',counter)\n",
        "  counter=counter+1"
      ],
      "metadata": {
        "id": "P_4pHJsDTjcE"
      },
      "execution_count": null,
      "outputs": []
    },
    {
      "cell_type": "markdown",
      "source": [
        "**The For Loop**\n",
        "\n",
        "\n",
        "* A for loop in Python is a control flow statement that is used to repeatedly execute a group of statements as long as the condition is satisfied.\n",
        "\n",
        "\n"
      ],
      "metadata": {
        "id": "_U5lHOMup7XD"
      }
    },
    {
      "cell_type": "code",
      "source": [
        "for i in range(5):\n",
        "  print(\"Hello Python\")"
      ],
      "metadata": {
        "id": "Z1gsU85cTjfV"
      },
      "execution_count": null,
      "outputs": []
    },
    {
      "cell_type": "code",
      "source": [
        "mytestlist=[20,200,2000]\n",
        "mytestlist"
      ],
      "metadata": {
        "id": "qN70u9w3TjiN"
      },
      "execution_count": null,
      "outputs": []
    },
    {
      "cell_type": "code",
      "source": [
        "for check in mytestlist:\n",
        "  print(\"My check: \",check)"
      ],
      "metadata": {
        "id": "E9VCIwbXTgsI"
      },
      "execution_count": null,
      "outputs": []
    },
    {
      "cell_type": "code",
      "source": [
        "#Bringing it all together \n",
        "\n",
        "namelist = [\"Joe\",\"Mary\",\"Dave\",\"Patrick\",\"Kate\",\"James\",\"Lorna\",\"Marissa\",\"Tony\",\"Chris\"]\n",
        "ageList = [21,5,23,38,5,16,18,8,9,11]\n",
        "k = 0\n",
        "Agefinal=\"{} is {} years old and is a {}\"\n",
        "for i in namelist:\n",
        "        if ageList[k] > 17: \n",
        "          a = \"adult\" \n",
        "        else: \n",
        "          a = \"child\"\n",
        "        print(Agefinal.format(i, ageList[k], a))\n",
        "        k += 1"
      ],
      "metadata": {
        "id": "dBs7_rSG7ZIT"
      },
      "execution_count": null,
      "outputs": []
    }
  ]
}