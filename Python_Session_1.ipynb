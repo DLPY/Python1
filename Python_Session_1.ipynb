{
  "nbformat": 4,
  "nbformat_minor": 0,
  "metadata": {
    "colab": {
      "provenance": [],
      "collapsed_sections": [],
      "authorship_tag": "ABX9TyPgOQJ96+8LrIWXAhTFKXDi",
      "include_colab_link": true
    },
    "kernelspec": {
      "name": "python3",
      "display_name": "Python 3"
    },
    "language_info": {
      "name": "python"
    }
  },
  "cells": [
    {
      "cell_type": "markdown",
      "metadata": {
        "id": "view-in-github",
        "colab_type": "text"
      },
      "source": [
        "<a href=\"https://colab.research.google.com/github/DLPY/Python1/blob/main/Python_Session_1.ipynb\" target=\"_parent\"><img src=\"https://colab.research.google.com/assets/colab-badge.svg\" alt=\"Open In Colab\"/></a>"
      ]
    },
    {
      "cell_type": "markdown",
      "source": [
        "### Variables & Types"
      ],
      "metadata": {
        "id": "ak_Jj9jhSDTw"
      }
    },
    {
      "cell_type": "markdown",
      "source": [
        "**Integers**\n",
        "\n",
        "*  An integer is a whole number that could hold a zero, positive or negative value\n",
        "*   Integers can be of any length, it is only limited by the memory available.\n",
        "\n",
        "\n"
      ],
      "metadata": {
        "id": "lIR9zlUeOQsh"
      }
    },
    {
      "cell_type": "code",
      "source": [
        "A= 1000\n",
        "A"
      ],
      "metadata": {
        "id": "xTmQ9Z_5SLit"
      },
      "execution_count": null,
      "outputs": []
    },
    {
      "cell_type": "code",
      "source": [
        "B= A+100\n",
        "B"
      ],
      "metadata": {
        "id": "xutQkRvZPRAx"
      },
      "execution_count": null,
      "outputs": []
    },
    {
      "cell_type": "code",
      "source": [
        "print(A,\"is of type \",type(A))\n",
        "print(B,\"is of type \",type(A))"
      ],
      "metadata": {
        "id": "2ZvLnhz9Pbcp"
      },
      "execution_count": null,
      "outputs": []
    },
    {
      "cell_type": "markdown",
      "source": [
        "**Float**\n",
        "*  The float type in Python designates a floating-point number.\n",
        "*   Float values are specified with a decimal point.\n",
        "\n",
        "\n",
        "\n",
        "\n",
        "\n"
      ],
      "metadata": {
        "id": "Q4dalzGssDBY"
      }
    },
    {
      "cell_type": "code",
      "source": [
        "C=-1.100\n",
        "C"
      ],
      "metadata": {
        "id": "glYMHbw6Pm8B"
      },
      "execution_count": null,
      "outputs": []
    },
    {
      "cell_type": "code",
      "source": [
        "print(C,\", is it a float?\",isinstance(C,float))"
      ],
      "metadata": {
        "id": "QPEMu9qlPu3z"
      },
      "execution_count": null,
      "outputs": []
    },
    {
      "cell_type": "markdown",
      "source": [
        "**Strings**\n",
        "\n",
        "\n",
        "*   Strings are sequences of character data.\n",
        "*   The string type in Python is called str.\n",
        "*   String literals may be delimited using either single or double quotes.\n",
        "*   All the characters between the opening delimiter and matching closing delimiter are part of the string.\n",
        "*   Are immutable."
      ],
      "metadata": {
        "id": "aYQwN8vqUMc2"
      }
    },
    {
      "cell_type": "code",
      "source": [
        "print(\"Hello\")"
      ],
      "metadata": {
        "id": "hp3xsmNcUx6A"
      },
      "execution_count": null,
      "outputs": []
    },
    {
      "cell_type": "code",
      "source": [
        "type(\"Welcome\")"
      ],
      "metadata": {
        "id": "YdG5QklZU87_"
      },
      "execution_count": null,
      "outputs": []
    },
    {
      "cell_type": "markdown",
      "source": [
        "Slice & Dice"
      ],
      "metadata": {
        "id": "Zzrj_mNjm2J5"
      }
    },
    {
      "cell_type": "code",
      "source": [
        "b = \"Hello, World!\"\n",
        "print(b)"
      ],
      "metadata": {
        "id": "RjC47hKUm5Ae"
      },
      "execution_count": null,
      "outputs": []
    },
    {
      "cell_type": "markdown",
      "source": [
        "**Caculations**\n",
        "\n",
        "\n",
        "*   The interpreter acts as a simple calculator: you can type an expression at it and it will write the value.\n",
        "\n",
        "*   Expression syntax is straightforward: the operators +, -, * and / work just like in most other languages \n",
        "\n"
      ],
      "metadata": {
        "id": "1AO_BwHIplGq"
      }
    },
    {
      "cell_type": "code",
      "source": [
        "3+3"
      ],
      "metadata": {
        "id": "FEU7Op2__Tx4"
      },
      "execution_count": null,
      "outputs": []
    },
    {
      "cell_type": "code",
      "source": [
        "50 - 5*6"
      ],
      "metadata": {
        "id": "86HHmAsy_eXl"
      },
      "execution_count": null,
      "outputs": []
    },
    {
      "cell_type": "code",
      "source": [
        "(50 - 5*6) / 4      #A division will always return a float"
      ],
      "metadata": {
        "id": "i_zSD-P8__th"
      },
      "execution_count": null,
      "outputs": []
    },
    {
      "cell_type": "code",
      "source": [
        "5**2                #** can be used to calculate powers"
      ],
      "metadata": {
        "id": "oYWd8yq6Aef8"
      },
      "execution_count": null,
      "outputs": []
    },
    {
      "cell_type": "code",
      "source": [
        "#The Modular Operator returns the remainder from a divison\n",
        "print(10%2)\n",
        "print(10%3)"
      ],
      "metadata": {
        "id": "VotwmX61L_hl"
      },
      "execution_count": null,
      "outputs": []
    },
    {
      "cell_type": "code",
      "source": [
        "a = 4\n",
        "b = 5\n",
        "\n",
        "print(a+b)\n",
        "print(a-b)\n",
        "print(a%b)\n",
        "print(a**b)\n"
      ],
      "metadata": {
        "id": "cA0d-myqNHOl"
      },
      "execution_count": null,
      "outputs": []
    },
    {
      "cell_type": "markdown",
      "source": [
        "**Booleans**\n",
        "\n",
        "\n",
        "*   In programming you often need to know if an expression is True or False.\n",
        "*   You can evaluate any expression in Python, and get one of two answers, True or False.\n",
        "\n",
        "*   When you compare two values, the expression is evaluated and Python returns the Boolean answer\n",
        "\n",
        "\n",
        "\n",
        "\n"
      ],
      "metadata": {
        "id": "XDfrw5UQETnv"
      }
    },
    {
      "cell_type": "code",
      "source": [
        "print(10 > 9)\n",
        "print(10 == 9)\n",
        "print(10 < 9)"
      ],
      "metadata": {
        "id": "gxI3NJGIEugg"
      },
      "execution_count": null,
      "outputs": []
    },
    {
      "cell_type": "markdown",
      "source": [
        "When you run a condition in an if statement, Python returns True or False:"
      ],
      "metadata": {
        "id": "3oW3b8V4FsZ-"
      }
    },
    {
      "cell_type": "code",
      "source": [
        "a = 200\n",
        "b = 33\n",
        "\n",
        "if b > a:\n",
        "  print(\"b is greater than a\")\n",
        "elif b == a: \n",
        "  print(\"b equals a\")\n",
        "else:\n",
        "  print(\"b is not greater than a\")"
      ],
      "metadata": {
        "id": "GLvsTQBRUfx-"
      },
      "execution_count": null,
      "outputs": []
    },
    {
      "cell_type": "markdown",
      "source": [
        "*   The bool() function allows you to evaluate any value, and give you True or False in return \n",
        "*   Almost any value is evaluated to True if it has some sort of content.\n",
        "*   Any string is True, except empty strings.\n",
        "*   Any number is True, except 0.\n",
        "\n",
        "\n",
        "\n",
        "\n",
        "\n",
        "\n"
      ],
      "metadata": {
        "id": "RC9LsiMTGOjl"
      }
    },
    {
      "cell_type": "code",
      "source": [
        "bool(\"abc\")"
      ],
      "metadata": {
        "id": "d0EwMgMdFKe0"
      },
      "execution_count": null,
      "outputs": []
    },
    {
      "cell_type": "code",
      "source": [
        "bool(123)"
      ],
      "metadata": {
        "id": "y3_A7WYQP7r6"
      },
      "execution_count": null,
      "outputs": []
    },
    {
      "cell_type": "code",
      "source": [
        "bool(0)"
      ],
      "metadata": {
        "id": "yQs5427VJ7RL"
      },
      "execution_count": null,
      "outputs": []
    },
    {
      "cell_type": "code",
      "source": [
        "bool(None)"
      ],
      "metadata": {
        "id": "4Jjf23ydQR6C"
      },
      "execution_count": null,
      "outputs": []
    },
    {
      "cell_type": "markdown",
      "source": [
        "**Boolean Operators**\n",
        "\n",
        "\n",
        "*   == (to check if two values are equal)\n",
        "\n",
        "*   != (to check if two values are not equal)\n",
        "\n",
        "*   <\n",
        "\n",
        "*  \\>\n",
        "\n",
        "\n",
        "*   <=\n",
        "\n",
        "\n",
        "*   \\>=\n",
        "\n",
        "\n",
        "*   and\n",
        "\n",
        "*   or\n",
        "*   not\n",
        "\n",
        "\n",
        "\n"
      ],
      "metadata": {
        "id": "vE3g3da_OmWU"
      }
    },
    {
      "cell_type": "code",
      "source": [
        "Test1=4<5\n",
        "Test1"
      ],
      "metadata": {
        "id": "s5d3GbcQOjh9"
      },
      "execution_count": null,
      "outputs": []
    },
    {
      "cell_type": "code",
      "source": [
        "type(Test1)"
      ],
      "metadata": {
        "id": "1wBjcx6kQqVe"
      },
      "execution_count": null,
      "outputs": []
    },
    {
      "cell_type": "code",
      "source": [
        "Test2= not('M'=='M')\n",
        "Test2"
      ],
      "metadata": {
        "id": "L1C5jDVqQt4F"
      },
      "execution_count": null,
      "outputs": []
    },
    {
      "cell_type": "code",
      "source": [
        "Test1 or Test2"
      ],
      "metadata": {
        "id": "wSoH9YGUR7LW"
      },
      "execution_count": null,
      "outputs": []
    },
    {
      "cell_type": "code",
      "source": [
        "Test1 and Test2"
      ],
      "metadata": {
        "id": "AVHDbI_BSBKi"
      },
      "execution_count": null,
      "outputs": []
    }
  ]
}