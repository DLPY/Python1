{
  "cells": [
    {
      "cell_type": "markdown",
      "metadata": {
        "id": "view-in-github",
        "colab_type": "text"
      },
      "source": [
        "<a href=\"https://colab.research.google.com/github/DLPY/Python1/blob/main/Python_Basics_Lists.ipynb\" target=\"_parent\"><img src=\"https://colab.research.google.com/assets/colab-badge.svg\" alt=\"Open In Colab\"/></a>"
      ]
    },
    {
      "cell_type": "markdown",
      "id": "2e6e805e",
      "metadata": {
        "id": "2e6e805e"
      },
      "source": [
        "# List Data Types"
      ]
    },
    {
      "cell_type": "markdown",
      "id": "c0fdbb5c",
      "metadata": {
        "id": "c0fdbb5c"
      },
      "source": [
        "## 1. List"
      ]
    },
    {
      "cell_type": "code",
      "execution_count": null,
      "id": "1ceecce0",
      "metadata": {
        "id": "1ceecce0"
      },
      "outputs": [],
      "source": [
        "c = ['apple', 'banana', 'cherry']"
      ]
    },
    {
      "cell_type": "code",
      "execution_count": null,
      "id": "f013e804",
      "metadata": {
        "id": "f013e804"
      },
      "outputs": [],
      "source": [
        "print(type(c))"
      ]
    },
    {
      "cell_type": "code",
      "execution_count": null,
      "id": "83b69123",
      "metadata": {
        "id": "83b69123"
      },
      "outputs": [],
      "source": [
        "d= list(('apple', 'banana', 'cherry'))"
      ]
    },
    {
      "cell_type": "code",
      "execution_count": null,
      "id": "637276ea",
      "metadata": {
        "id": "637276ea"
      },
      "outputs": [],
      "source": [
        "print(type(d))"
      ]
    },
    {
      "cell_type": "markdown",
      "id": "62120541",
      "metadata": {
        "id": "62120541"
      },
      "source": [
        "### List Methods"
      ]
    },
    {
      "cell_type": "markdown",
      "id": "aba318d3",
      "metadata": {
        "id": "aba318d3"
      },
      "source": [
        "#### 1. Length of the list"
      ]
    },
    {
      "cell_type": "code",
      "execution_count": null,
      "id": "dbb5d4ac",
      "metadata": {
        "id": "dbb5d4ac"
      },
      "outputs": [],
      "source": [
        "thislist = [\"apple\", \"banana\", \"cherry\"]\n",
        "print(len(thislist))"
      ]
    },
    {
      "cell_type": "markdown",
      "id": "a3aa4745",
      "metadata": {
        "id": "a3aa4745"
      },
      "source": [
        "#### 2. Access List Iems"
      ]
    },
    {
      "cell_type": "code",
      "execution_count": null,
      "id": "ab167954",
      "metadata": {
        "id": "ab167954"
      },
      "outputs": [],
      "source": [
        "thislist = [\"apple\", \"banana\", \"cherry\"]\n",
        "print(thislist[1])"
      ]
    },
    {
      "cell_type": "markdown",
      "id": "a99b0489",
      "metadata": {
        "id": "a99b0489"
      },
      "source": [
        "#### 3. Change List Items"
      ]
    },
    {
      "cell_type": "code",
      "execution_count": null,
      "id": "b2a66d9d",
      "metadata": {
        "id": "b2a66d9d"
      },
      "outputs": [],
      "source": [
        "thislist = [\"apple\", \"banana\", \"cherry\"]\n",
        "thislist[1] = \"blackcurrant\"\n",
        "print(thislist)"
      ]
    },
    {
      "cell_type": "code",
      "execution_count": null,
      "id": "9d532759",
      "metadata": {
        "id": "9d532759"
      },
      "outputs": [],
      "source": [
        "thislist = [\"apple\", \"banana\", \"cherry\", \"orange\", \"kiwi\", \"mango\"]\n",
        "thislist[1:3] = [\"blackcurrant\", \"watermelon\"]\n",
        "print(thislist)"
      ]
    },
    {
      "cell_type": "markdown",
      "id": "ef12fea4",
      "metadata": {
        "id": "ef12fea4"
      },
      "source": [
        "#### 4. Add List Items (Append, Insert, Extend)"
      ]
    },
    {
      "cell_type": "markdown",
      "id": "39628231",
      "metadata": {
        "id": "39628231"
      },
      "source": [
        "##### 1. Append"
      ]
    },
    {
      "cell_type": "code",
      "execution_count": null,
      "id": "d0ffbdd2",
      "metadata": {
        "id": "d0ffbdd2"
      },
      "outputs": [],
      "source": [
        "thislist = [\"apple\", \"banana\", \"cherry\"]\n",
        "print(thislist)\n",
        "thislist.append(\"orange\")\n",
        "print(thislist)"
      ]
    },
    {
      "cell_type": "markdown",
      "id": "97a0d414",
      "metadata": {
        "id": "97a0d414"
      },
      "source": [
        "##### 2. Insert"
      ]
    },
    {
      "cell_type": "code",
      "execution_count": null,
      "id": "931bb970",
      "metadata": {
        "id": "931bb970"
      },
      "outputs": [],
      "source": [
        "thislist = [\"apple\", \"banana\", \"cherry\"]\n",
        "print(thislist)\n",
        "thislist.insert(1, \"orange\")\n",
        "print(thislist)"
      ]
    },
    {
      "cell_type": "markdown",
      "id": "5fa8a82a",
      "metadata": {
        "id": "5fa8a82a"
      },
      "source": [
        "##### 3. Extend"
      ]
    },
    {
      "cell_type": "code",
      "execution_count": null,
      "id": "1a383df6",
      "metadata": {
        "id": "1a383df6"
      },
      "outputs": [],
      "source": [
        "thislist = [\"apple\", \"banana\", \"cherry\"]\n",
        "tropical = [\"mango\", \"pineapple\", \"papaya\"]\n",
        "thislist.extend(tropical)\n",
        "print(thislist)"
      ]
    },
    {
      "cell_type": "markdown",
      "id": "c41e41bc",
      "metadata": {
        "id": "c41e41bc"
      },
      "source": [
        "#### 5. Remove List Items"
      ]
    },
    {
      "cell_type": "markdown",
      "id": "1a78de0b",
      "metadata": {
        "id": "1a78de0b"
      },
      "source": [
        "##### 1. Remove"
      ]
    },
    {
      "cell_type": "code",
      "execution_count": null,
      "id": "7c73d44f",
      "metadata": {
        "id": "7c73d44f"
      },
      "outputs": [],
      "source": [
        "thislist = [\"apple\", \"banana\", \"cherry\"]\n",
        "thislist.remove(\"banana\")\n",
        "print(thislist)"
      ]
    },
    {
      "cell_type": "markdown",
      "id": "c6f149db",
      "metadata": {
        "id": "c6f149db"
      },
      "source": [
        "##### 2.  Pop"
      ]
    },
    {
      "cell_type": "code",
      "execution_count": null,
      "id": "a156ac0f",
      "metadata": {
        "id": "a156ac0f"
      },
      "outputs": [],
      "source": [
        "thislist = [\"apple\", \"banana\", \"cherry\"]\n",
        "print(thislist)\n",
        "thislist.pop(1)\n",
        "print(thislist)"
      ]
    },
    {
      "cell_type": "markdown",
      "id": "9e354b7f",
      "metadata": {
        "id": "9e354b7f"
      },
      "source": [
        "##### 3. Delete"
      ]
    },
    {
      "cell_type": "code",
      "execution_count": null,
      "id": "9cfecc90",
      "metadata": {
        "id": "9cfecc90"
      },
      "outputs": [],
      "source": [
        "thislist = [\"apple\", \"banana\", \"cherry\"]\n",
        "del thislist[0]\n",
        "print(thislist)"
      ]
    },
    {
      "cell_type": "code",
      "execution_count": null,
      "id": "48c1e590",
      "metadata": {
        "id": "48c1e590"
      },
      "outputs": [],
      "source": [
        "thislist = [\"apple\", \"banana\", \"cherry\"]\n",
        "del thislist\n",
        "print(thislist)"
      ]
    },
    {
      "cell_type": "markdown",
      "id": "f67f2d8a",
      "metadata": {
        "id": "f67f2d8a"
      },
      "source": [
        "##### 4. Clear List"
      ]
    },
    {
      "cell_type": "code",
      "execution_count": null,
      "id": "a9e2078e",
      "metadata": {
        "id": "a9e2078e"
      },
      "outputs": [],
      "source": [
        "thislist = [\"apple\", \"banana\", \"cherry\"]\n",
        "thislist.clear()\n",
        "print(thislist)"
      ]
    },
    {
      "cell_type": "markdown",
      "id": "92eac9a9",
      "metadata": {
        "id": "92eac9a9"
      },
      "source": [
        "#### 6. Loop Lists"
      ]
    },
    {
      "cell_type": "markdown",
      "id": "c98e6188",
      "metadata": {
        "id": "c98e6188"
      },
      "source": [
        "##### 1. Loop Through a List"
      ]
    },
    {
      "cell_type": "code",
      "execution_count": null,
      "id": "b7f7763a",
      "metadata": {
        "id": "b7f7763a"
      },
      "outputs": [],
      "source": [
        "thislist = [\"apple\", \"banana\", \"cherry\"]\n",
        "for x in thislist:\n",
        "    print(x)"
      ]
    },
    {
      "cell_type": "markdown",
      "id": "1882a4b2",
      "metadata": {
        "id": "1882a4b2"
      },
      "source": [
        "##### 2. Loop Through the Index Numbers"
      ]
    },
    {
      "cell_type": "code",
      "execution_count": null,
      "id": "cb137e06",
      "metadata": {
        "id": "cb137e06"
      },
      "outputs": [],
      "source": [
        "thislist = [\"apple\", \"banana\", \"cherry\"]\n",
        "for i in range(len(thislist)):\n",
        "  print(thislist[i])"
      ]
    },
    {
      "cell_type": "markdown",
      "id": "496b9622",
      "metadata": {
        "id": "496b9622"
      },
      "source": [
        "##### 3. Loop using While"
      ]
    },
    {
      "cell_type": "code",
      "execution_count": null,
      "id": "195d304a",
      "metadata": {
        "id": "195d304a"
      },
      "outputs": [],
      "source": [
        "thislist = [\"apple\", \"banana\", \"cherry\"]\n",
        "i = 0\n",
        "while i < len(thislist):\n",
        "    print(thislist[i])\n",
        "    i = i + 1"
      ]
    },
    {
      "cell_type": "markdown",
      "id": "6d4ec2f0",
      "metadata": {
        "id": "6d4ec2f0"
      },
      "source": [
        "##### 4. Looping Using List Comprehension"
      ]
    },
    {
      "cell_type": "code",
      "execution_count": null,
      "id": "56a2eeb9",
      "metadata": {
        "id": "56a2eeb9"
      },
      "outputs": [],
      "source": [
        "thislist = [\"apple\", \"banana\", \"cherry\"]\n",
        "[print(x) for x in thislist]"
      ]
    },
    {
      "cell_type": "markdown",
      "id": "9bbdd3bf",
      "metadata": {
        "id": "9bbdd3bf"
      },
      "source": [
        "#### 7. List Comprehension"
      ]
    },
    {
      "cell_type": "markdown",
      "id": "559ee138",
      "metadata": {
        "id": "559ee138"
      },
      "source": [
        "##### 1. List Comprehension using loop"
      ]
    },
    {
      "cell_type": "code",
      "execution_count": null,
      "id": "c03b35fa",
      "metadata": {
        "id": "c03b35fa"
      },
      "outputs": [],
      "source": [
        "fruits = [\"apple\", \"banana\", \"cherry\", \"kiwi\", \"mango\"]\n",
        "newlist = []\n",
        "\n",
        "for x in fruits:\n",
        "  if \"a\" in x:\n",
        "    newlist.append(x)\n",
        "\n",
        "print(newlist)"
      ]
    },
    {
      "cell_type": "markdown",
      "id": "abe9245c",
      "metadata": {
        "id": "abe9245c"
      },
      "source": [
        "##### 2. Comprehension using single line code"
      ]
    },
    {
      "cell_type": "code",
      "execution_count": null,
      "id": "12491ab5",
      "metadata": {
        "id": "12491ab5"
      },
      "outputs": [],
      "source": [
        "fruits = [\"apple\", \"banana\", \"cherry\", \"kiwi\", \"mango\"]\n",
        "\n",
        "newlist = [x for x in fruits if \"a\" in x]\n",
        "\n",
        "print(newlist)"
      ]
    },
    {
      "cell_type": "markdown",
      "id": "bcb74d2d",
      "metadata": {
        "id": "bcb74d2d"
      },
      "source": [
        "#### 8. Sort List"
      ]
    },
    {
      "cell_type": "markdown",
      "id": "068d94c3",
      "metadata": {
        "id": "068d94c3"
      },
      "source": [
        "##### 1. Ascending"
      ]
    },
    {
      "cell_type": "code",
      "execution_count": null,
      "id": "1008daca",
      "metadata": {
        "id": "1008daca"
      },
      "outputs": [],
      "source": [
        "thislist = [\"orange\", \"mango\", \"kiwi\", \"pineapple\", \"banana\"]\n",
        "print('Before Sorting:',thislist)\n",
        "thislist.sort()\n",
        "print('After Sorting:',thislist)"
      ]
    },
    {
      "cell_type": "markdown",
      "id": "07e8dc8d",
      "metadata": {
        "id": "07e8dc8d"
      },
      "source": [
        "##### 2. Descending"
      ]
    },
    {
      "cell_type": "code",
      "execution_count": null,
      "id": "0bbd5d78",
      "metadata": {
        "id": "0bbd5d78"
      },
      "outputs": [],
      "source": [
        "thislist = [\"orange\", \"mango\", \"kiwi\", \"pineapple\", \"banana\"]\n",
        "print('Before Sorting:',thislist)\n",
        "thislist.sort(reverse = True)\n",
        "print('Before Sorting:',thislist)"
      ]
    },
    {
      "cell_type": "markdown",
      "id": "d2dab606",
      "metadata": {
        "id": "d2dab606"
      },
      "source": [
        "##### 3. Case sensitive Sorting"
      ]
    },
    {
      "cell_type": "code",
      "execution_count": null,
      "id": "02aeadc3",
      "metadata": {
        "id": "02aeadc3"
      },
      "outputs": [],
      "source": [
        "thislist = [\"banana\", \"Orange\", \"Kiwi\", \"cherry\"]\n",
        "thislist.sort()\n",
        "print(thislist) #Case sensitive sorting can give an unexpected result:"
      ]
    },
    {
      "cell_type": "markdown",
      "id": "f51952fc",
      "metadata": {
        "id": "f51952fc"
      },
      "source": [
        "##### 4. Case In-sensnitive Sorting"
      ]
    },
    {
      "cell_type": "code",
      "execution_count": null,
      "id": "6d9b92f3",
      "metadata": {
        "id": "6d9b92f3"
      },
      "outputs": [],
      "source": [
        "thislist = [\"banana\", \"Orange\", \"Kiwi\", \"cherry\"]\n",
        "thislist.sort(key = str.lower)\n",
        "print(thislist)"
      ]
    },
    {
      "cell_type": "markdown",
      "id": "670e019a",
      "metadata": {
        "id": "670e019a"
      },
      "source": [
        "##### 5. Reverse the list"
      ]
    },
    {
      "cell_type": "code",
      "execution_count": null,
      "id": "ea822add",
      "metadata": {
        "id": "ea822add"
      },
      "outputs": [],
      "source": [
        "thislist = [\"banana\", \"Orange\", \"Kiwi\", \"cherry\"]\n",
        "print(thislist)\n",
        "thislist.reverse()\n",
        "print(thislist)"
      ]
    },
    {
      "cell_type": "markdown",
      "id": "de214a4f",
      "metadata": {
        "id": "de214a4f"
      },
      "source": [
        "#### 9. Join List"
      ]
    },
    {
      "cell_type": "markdown",
      "id": "e832d80e",
      "metadata": {
        "id": "e832d80e"
      },
      "source": [
        "##### 1. Append"
      ]
    },
    {
      "cell_type": "code",
      "execution_count": null,
      "id": "7a735824",
      "metadata": {
        "id": "7a735824"
      },
      "outputs": [],
      "source": [
        "list1 = [\"a\", \"b\" , \"c\"]\n",
        "list2 = [1, 2, 3]\n",
        "\n",
        "for x in list2:\n",
        "  list1.append(x)\n",
        "\n",
        "print(list1)"
      ]
    },
    {
      "cell_type": "markdown",
      "id": "e74d09e1",
      "metadata": {
        "id": "e74d09e1"
      },
      "source": [
        "##### 2. Extend"
      ]
    },
    {
      "cell_type": "code",
      "execution_count": null,
      "id": "7f1b5437",
      "metadata": {
        "id": "7f1b5437"
      },
      "outputs": [],
      "source": [
        "list1 = [\"a\", \"b\" , \"c\"]\n",
        "list2 = [1, 2, 3]\n",
        "\n",
        "list1.extend(list2)\n",
        "print(list1)"
      ]
    }
  ],
  "metadata": {
    "kernelspec": {
      "display_name": "Python 3 (ipykernel)",
      "language": "python",
      "name": "python3"
    },
    "language_info": {
      "codemirror_mode": {
        "name": "ipython",
        "version": 3
      },
      "file_extension": ".py",
      "mimetype": "text/x-python",
      "name": "python",
      "nbconvert_exporter": "python",
      "pygments_lexer": "ipython3",
      "version": "3.7.4"
    },
    "colab": {
      "provenance": [],
      "collapsed_sections": [],
      "toc_visible": true,
      "include_colab_link": true
    }
  },
  "nbformat": 4,
  "nbformat_minor": 5
}