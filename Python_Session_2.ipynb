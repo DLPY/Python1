{
  "nbformat": 4,
  "nbformat_minor": 0,
  "metadata": {
    "colab": {
      "provenance": [],
      "collapsed_sections": [],
      "include_colab_link": true
    },
    "kernelspec": {
      "name": "python3",
      "display_name": "Python 3"
    },
    "language_info": {
      "name": "python"
    }
  },
  "cells": [
    {
      "cell_type": "markdown",
      "metadata": {
        "id": "view-in-github",
        "colab_type": "text"
      },
      "source": [
        "<a href=\"https://colab.research.google.com/github/DLPY/Python1/blob/main/Python_Session_2.ipynb\" target=\"_parent\"><img src=\"https://colab.research.google.com/assets/colab-badge.svg\" alt=\"Open In Colab\"/></a>"
      ]
    },
    {
      "cell_type": "markdown",
      "metadata": {
        "id": "2e6e805e"
      },
      "source": [
        "# 1. Lists"
      ]
    },
    {
      "cell_type": "markdown",
      "source": [
        "## 1. Define List"
      ],
      "metadata": {
        "id": "gvjCCfX-6Afa"
      }
    },
    {
      "cell_type": "code",
      "execution_count": null,
      "metadata": {
        "id": "1ceecce0"
      },
      "outputs": [],
      "source": [
        "c = ['apple', 'banana', 'cherry']"
      ]
    },
    {
      "cell_type": "code",
      "execution_count": null,
      "metadata": {
        "id": "f013e804"
      },
      "outputs": [],
      "source": [
        "print(type(c))"
      ]
    },
    {
      "cell_type": "code",
      "execution_count": null,
      "metadata": {
        "id": "83b69123"
      },
      "outputs": [],
      "source": [
        "d= list(('apple', 'banana', 'cherry'))"
      ]
    },
    {
      "cell_type": "code",
      "execution_count": null,
      "metadata": {
        "id": "637276ea"
      },
      "outputs": [],
      "source": [
        "print(type(d))"
      ]
    },
    {
      "cell_type": "markdown",
      "source": [
        "## 2. Access List"
      ],
      "metadata": {
        "id": "6TayoKXv6En_"
      }
    },
    {
      "cell_type": "code",
      "execution_count": null,
      "metadata": {
        "id": "ab167954"
      },
      "outputs": [],
      "source": [
        "thislist = [\"apple\", \"banana\", \"cherry\"]\n",
        "print(thislist[1])"
      ]
    },
    {
      "cell_type": "code",
      "source": [
        "thislist = [\"apple\", \"banana\", \"cherry\"]\n",
        "print(thislist[-2])"
      ],
      "metadata": {
        "id": "tQkpr-RVcIxW"
      },
      "execution_count": null,
      "outputs": []
    },
    {
      "cell_type": "markdown",
      "source": [
        "## 3. List with various data types"
      ],
      "metadata": {
        "id": "4nmoTP786G_V"
      }
    },
    {
      "cell_type": "code",
      "source": [
        "thislist = [\"apple\", 1, True]\n",
        "print(thislist)"
      ],
      "metadata": {
        "id": "7A-5U5ANe1dO"
      },
      "execution_count": null,
      "outputs": []
    },
    {
      "cell_type": "code",
      "source": [
        "thislist = [\"apple\", 1, True, [\"banana\", \"cherry\"]]\n",
        "print(thislist)"
      ],
      "metadata": {
        "id": "f9WT98qLe_Nl"
      },
      "execution_count": null,
      "outputs": []
    },
    {
      "cell_type": "markdown",
      "source": [
        "# 2. Dictionary"
      ],
      "metadata": {
        "id": "dd5hovdzfVLq"
      }
    },
    {
      "cell_type": "markdown",
      "source": [
        "## 1. Define Dictionary"
      ],
      "metadata": {
        "id": "CXAfcYSK6L5W"
      }
    },
    {
      "cell_type": "code",
      "source": [
        "thisdict = {\n",
        "  \"brand\": \"Ford\",\n",
        "  \"model\": \"Mustang\",\n",
        "  \"year\": 1964\n",
        "}\n",
        "print(thisdict)"
      ],
      "metadata": {
        "id": "zAfMNwZ5fXMZ"
      },
      "execution_count": null,
      "outputs": []
    },
    {
      "cell_type": "markdown",
      "source": [
        "## 2. Update value in the dictionary"
      ],
      "metadata": {
        "id": "77Mqa0Vl6QoI"
      }
    },
    {
      "cell_type": "code",
      "source": [
        "thisdict = {\n",
        "  \"brand\": \"Ford\",\n",
        "  \"model\": \"Mustang\",\n",
        "  \"year\": 1964,\n",
        "  \"model\": \"2020\"\n",
        "}\n",
        "print(thisdict)\n"
      ],
      "metadata": {
        "id": "YMk_P0iEfw5p"
      },
      "execution_count": null,
      "outputs": []
    },
    {
      "cell_type": "markdown",
      "source": [
        "## 3. Dictionary with various data types"
      ],
      "metadata": {
        "id": "UGPrkWJUhs8e"
      }
    },
    {
      "cell_type": "code",
      "source": [
        "thisdict = {\n",
        "  \"brand\": \"Ford\",\n",
        "  \"model\": \"Mustang\",\n",
        "  \"year\": 1964,\n",
        "  \"Owner\": ['John', 'Jane']\n",
        "}\n",
        "print(thisdict)"
      ],
      "metadata": {
        "id": "l0zbcND7gIfY"
      },
      "execution_count": null,
      "outputs": []
    },
    {
      "cell_type": "code",
      "source": [
        "thisdict = {\n",
        "  \"brand\": \"Ford\",\n",
        "  \"model\": \"Mustang\",\n",
        "  \"year\": 1964,\n",
        "  \"Owner\": ['John', 'Jane'],\n",
        "  \"Address\": {\n",
        "      \"Name\": 'John', \"Eircode\": 'D123AB'\n",
        "  }\n",
        "}\n",
        "print(thisdict)"
      ],
      "metadata": {
        "id": "3dmn1a2Mh5DW"
      },
      "execution_count": null,
      "outputs": []
    },
    {
      "cell_type": "markdown",
      "source": [
        "# 3. Tuples"
      ],
      "metadata": {
        "id": "xu-VxbPYiYfk"
      }
    },
    {
      "cell_type": "markdown",
      "source": [
        "## 1. Define Tuple"
      ],
      "metadata": {
        "id": "yYAGEDPriYfl"
      }
    },
    {
      "cell_type": "code",
      "source": [
        "a = ('apple', 'banana', 'cherry')\n",
        "a"
      ],
      "metadata": {
        "id": "TxAF_GVjiKfT"
      },
      "execution_count": null,
      "outputs": []
    },
    {
      "cell_type": "code",
      "source": [
        "print(type(a))"
      ],
      "metadata": {
        "id": "ysnbO_Jkwfng"
      },
      "execution_count": null,
      "outputs": []
    },
    {
      "cell_type": "markdown",
      "source": [
        "## 2. Access Tuple"
      ],
      "metadata": {
        "id": "B28Q4VKl1e3P"
      }
    },
    {
      "cell_type": "code",
      "source": [
        "thistuple = (\"apple\", \"banana\", \"cherry\")\n",
        "thistuple[1]"
      ],
      "metadata": {
        "id": "DOxCoUT01hoc"
      },
      "execution_count": null,
      "outputs": []
    },
    {
      "cell_type": "code",
      "source": [
        "#Return the third, fourth, and fifth item:\n",
        "thistuple = (\"apple\", \"banana\", \"cherry\", \"orange\", \"kiwi\", \"melon\", \"mango\")\n",
        "thistuple[2:5]"
      ],
      "metadata": {
        "id": "ia7xBTpu1ujx"
      },
      "execution_count": null,
      "outputs": []
    },
    {
      "cell_type": "markdown",
      "source": [
        "## 3. Tuple with various data types"
      ],
      "metadata": {
        "id": "AEngBk0b6c9C"
      }
    },
    {
      "cell_type": "code",
      "source": [
        "my_tuple = (\"apple\", 1, True)\n",
        "my_tuple"
      ],
      "metadata": {
        "id": "-7n4c7KB4yjF"
      },
      "execution_count": null,
      "outputs": []
    },
    {
      "cell_type": "code",
      "source": [
        "my_tuple = (\"apple\", 1, True, [\"orange\", \"banana\"], (\"kiwi\", \"lemon\"))\n",
        "my_tuple"
      ],
      "metadata": {
        "id": "G5UgHmc24_NS"
      },
      "execution_count": null,
      "outputs": []
    },
    {
      "cell_type": "markdown",
      "source": [
        "# 4. SETS"
      ],
      "metadata": {
        "id": "Eu3IMe6F13YY"
      }
    },
    {
      "cell_type": "markdown",
      "source": [
        "## 1. Define set"
      ],
      "metadata": {
        "id": "poQfHD4G6qiI"
      }
    },
    {
      "cell_type": "code",
      "source": [
        "myset = {\"apple\", \"banana\", \"cherry\"}\n",
        "myset"
      ],
      "metadata": {
        "id": "MUFG3_os16zc"
      },
      "execution_count": null,
      "outputs": []
    },
    {
      "cell_type": "markdown",
      "source": [
        "## 2. Check in the set"
      ],
      "metadata": {
        "id": "u2mxoWSH6tLO"
      }
    },
    {
      "cell_type": "code",
      "source": [
        "\"banana\" in myset"
      ],
      "metadata": {
        "id": "llOZSxGe2P8-"
      },
      "execution_count": null,
      "outputs": []
    },
    {
      "cell_type": "markdown",
      "source": [
        "## 3. Set with various data types"
      ],
      "metadata": {
        "id": "nhSUy3D-6w4G"
      }
    },
    {
      "cell_type": "code",
      "source": [
        "myset = {1, False, \"apple\", [\"orange\", \"banana\"]}\n",
        "myset"
      ],
      "metadata": {
        "id": "AGNKvHFM5VzX"
      },
      "execution_count": null,
      "outputs": []
    },
    {
      "cell_type": "code",
      "source": [
        "myset = {1, False, \"apple\", {\"Address\": {\n",
        "      \"Name\": 'John', \"Eircode\": 'D123AB'}}}\n",
        "myset"
      ],
      "metadata": {
        "id": "RlJIqL2l7Ie7"
      },
      "execution_count": null,
      "outputs": []
    },
    {
      "cell_type": "code",
      "source": [
        "myset = {1, False, \"apple\"}\n",
        "myset"
      ],
      "metadata": {
        "id": "O9Rz0V9z5XCe"
      },
      "execution_count": null,
      "outputs": []
    },
    {
      "cell_type": "code",
      "source": [],
      "metadata": {
        "id": "OeqvISBV7Ce0"
      },
      "execution_count": null,
      "outputs": []
    }
  ]
}