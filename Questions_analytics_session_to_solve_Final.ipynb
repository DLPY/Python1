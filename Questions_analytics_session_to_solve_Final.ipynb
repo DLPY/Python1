{
  "cells": [
    {
      "cell_type": "markdown",
      "metadata": {
        "id": "view-in-github",
        "colab_type": "text"
      },
      "source": [
        "<a href=\"https://colab.research.google.com/github/DLPY/Python1/blob/main/Questions_analytics_session_to_solve_Final.ipynb\" target=\"_parent\"><img src=\"https://colab.research.google.com/assets/colab-badge.svg\" alt=\"Open In Colab\"/></a>"
      ]
    },
    {
      "cell_type": "markdown",
      "id": "00efd110",
      "metadata": {
        "id": "00efd110"
      },
      "source": [
        "## Exercises\n",
        "\n",
        "Answer the questions or complete the tasks outlined in bold below"
      ]
    },
    {
      "cell_type": "markdown",
      "id": "8420907a",
      "metadata": {
        "id": "8420907a"
      },
      "source": [
        "What is 7 to the power of 4?"
      ]
    },
    {
      "cell_type": "code",
      "execution_count": null,
      "id": "707e914d",
      "metadata": {
        "id": "707e914d",
        "outputId": "9026345d-26d5-459d-d654-ba47c3cbd126"
      },
      "outputs": [
        {
          "data": {
            "text/plain": [
              "2401"
            ]
          },
          "execution_count": 1,
          "metadata": {},
          "output_type": "execute_result"
        }
      ],
      "source": []
    },
    {
      "cell_type": "markdown",
      "id": "f6f3e21c",
      "metadata": {
        "id": "f6f3e21c"
      },
      "source": [
        "** Given the variables:**\n",
        "\n",
        "planet = \"Earth\"\n",
        "diameter = 12742\n",
        "\n",
        "** Use .format() to print the following string: **\n",
        "\n",
        "The diameter of Earth is 12742 kilometers."
      ]
    },
    {
      "cell_type": "code",
      "execution_count": null,
      "id": "863664af",
      "metadata": {
        "id": "863664af",
        "outputId": "d02b5a76-41d9-4a02-b04a-0aacdeaffa22"
      },
      "outputs": [
        {
          "name": "stdout",
          "output_type": "stream",
          "text": [
            "The diameter of Earth is 12742 kilometers\n"
          ]
        }
      ],
      "source": []
    },
    {
      "cell_type": "markdown",
      "id": "546fd4f0",
      "metadata": {
        "id": "546fd4f0"
      },
      "source": [
        "Now, using .replace(), with the previous string, switch \"Earth\" for the word \"Moon\""
      ]
    },
    {
      "cell_type": "code",
      "execution_count": null,
      "id": "73917223",
      "metadata": {
        "id": "73917223",
        "outputId": "0094fb46-2be6-4a1e-dee3-6b930cf2a1a2"
      },
      "outputs": [
        {
          "data": {
            "text/plain": [
              "'The diameter of Moon is 12742 kilometers'"
            ]
          },
          "execution_count": 3,
          "metadata": {},
          "output_type": "execute_result"
        }
      ],
      "source": []
    },
    {
      "cell_type": "markdown",
      "id": "b8b73534",
      "metadata": {
        "id": "b8b73534"
      },
      "source": [
        "** Split this string:**\n",
        "\n",
        "s = \"Hi there Sam!\"\n",
        "*into a list. *"
      ]
    },
    {
      "cell_type": "code",
      "execution_count": null,
      "id": "e500bebb",
      "metadata": {
        "id": "e500bebb",
        "outputId": "37461e6e-13f0-445f-84c7-f786915aba73"
      },
      "outputs": [
        {
          "data": {
            "text/plain": [
              "['Hi', 'there', 'Sam!']"
            ]
          },
          "execution_count": 4,
          "metadata": {},
          "output_type": "execute_result"
        }
      ],
      "source": []
    },
    {
      "cell_type": "markdown",
      "id": "cf40a413",
      "metadata": {
        "id": "cf40a413"
      },
      "source": [
        "Problem:\n",
        "\n",
        "You work for the police and you receive the recorded speed of the last 10 vehicles that passed in front of a camera in a road. The recorded speeds have been given to you in the following list:\n",
        "\n",
        "speeds = [50,10,100,120,70,60,30,85,65,10]\n",
        "\n",
        "Write some code that will help you to know what kind of ticket has to be given to each vehicle according to the speed recorded. There can be 3 possible results: \"No ticket\", \"Small ticket\", or \"Big Ticket\". Make sure you also print the vehicle's speed next to the ticket they are getting.\n",
        "\n",
        "If the speed is 60 or less, the result is \"No Ticket\". If speed is between 61 and 80 inclusive, the result is \"Small Ticket\". If speed is 81 or more, the result is \"Big Ticket\".\n",
        "\n",
        "An example of what you should print would be:\n",
        "\n",
        "    Vehicle that had a speed of 50, should receive: No ticket"
      ]
    },
    {
      "cell_type": "code",
      "execution_count": null,
      "id": "9f57a0fa",
      "metadata": {
        "id": "9f57a0fa",
        "outputId": "6d4589a5-cf58-433e-eb82-23866d72a133"
      },
      "outputs": [
        {
          "name": "stdout",
          "output_type": "stream",
          "text": [
            "Vehicle with a speed of 50, should receive: No Ticket\n",
            "Vehicle with a speed of 10, should receive: No Ticket\n",
            "Vehicle with a speed of 100, should receive: Big ticket\n",
            "Vehicle with a speed of 120, should receive: Big ticket\n",
            "Vehicle with a speed of 70, should receive: Small ticket\n",
            "Vehicle with a speed of 60, should receive: No Ticket\n",
            "Vehicle with a speed of 30, should receive: No Ticket\n",
            "Vehicle with a speed of 85, should receive: Big ticket\n",
            "Vehicle with a speed of 65, should receive: Small ticket\n",
            "Vehicle with a speed of 10, should receive: No Ticket\n"
          ]
        }
      ],
      "source": []
    },
    {
      "cell_type": "markdown",
      "id": "44f57203",
      "metadata": {
        "id": "44f57203"
      },
      "source": [
        "Slice the following string and print the word \"word\".\n",
        "\n",
        "\"Try to get the word from this string, it's easy\"\n",
        "\n",
        "The result when you print it should look only like:\n",
        "\n",
        "\"word\""
      ]
    },
    {
      "cell_type": "code",
      "execution_count": null,
      "id": "3e0bb0ec",
      "metadata": {
        "id": "3e0bb0ec",
        "outputId": "fc997ef1-c5e6-4eef-de20-f9fff1b24162"
      },
      "outputs": [
        {
          "name": "stdout",
          "output_type": "stream",
          "text": [
            "word\n"
          ]
        }
      ],
      "source": []
    },
    {
      "cell_type": "markdown",
      "id": "7185d9d4",
      "metadata": {
        "id": "7185d9d4"
      },
      "source": [
        "Print the area of a tringle with the following values for base and height:\n",
        "\n",
        "base = 5\n",
        "\n",
        "height = 8\n",
        "\n",
        "If the area of the triangle is greater than 30, then it should print a message similar to this one:\n",
        "\n",
        "\"Your triangle is too big! Its area was 35 square meters\"\n",
        "\n",
        "If it's smaller than 30, then the message should be the following:\n",
        "\n",
        "\"The triangle has an ok size, its area was 10 square meters\"\n",
        "\n",
        "\n",
        "The formula to calculate the are of a triangle is: (1/2) * base * height"
      ]
    },
    {
      "cell_type": "code",
      "execution_count": null,
      "id": "ae1ab893",
      "metadata": {
        "id": "ae1ab893",
        "outputId": "eedddb18-b6a8-4835-e219-50835500ebf7"
      },
      "outputs": [
        {
          "name": "stdout",
          "output_type": "stream",
          "text": [
            "The triangle has an ok size, its area was 20.0 square meters\n"
          ]
        }
      ],
      "source": []
    },
    {
      "cell_type": "markdown",
      "id": "03afa6fd",
      "metadata": {
        "id": "03afa6fd"
      },
      "source": [
        "Given the following lists:\n",
        "\n",
        "list_a = [10,30,22]\n",
        "\n",
        "list_b = [7,45,66]\n",
        "\n",
        "Add and print the items that have the same index number, example: \n",
        "    \n",
        "    You should only add and print element with index 0 from list_a and list_b, 10+7 = 17\n",
        "    Index 1: 30 + 45 = 75\n",
        "    index 2: 22 + 66 = 88\n",
        "    \n",
        "The message you want to print should look like:\n",
        "\n",
        "\"The result of 10 + 7 = 17\"..\n",
        "\n"
      ]
    },
    {
      "cell_type": "code",
      "execution_count": null,
      "id": "da5e02bc",
      "metadata": {
        "id": "da5e02bc",
        "outputId": "e1a249d5-7c1c-4ede-dc7a-d225d56ddf20"
      },
      "outputs": [
        {
          "name": "stdout",
          "output_type": "stream",
          "text": [
            "The result of 10 + 7 = 17\n",
            "The result of 30 + 45 = 75\n",
            "The result of 22 + 66 = 88\n"
          ]
        }
      ],
      "source": []
    },
    {
      "cell_type": "markdown",
      "id": "eaeeddef",
      "metadata": {
        "id": "eaeeddef"
      },
      "source": [
        "What is the difference between a list and a tuple?"
      ]
    },
    {
      "cell_type": "code",
      "execution_count": null,
      "id": "bcfec987",
      "metadata": {
        "id": "bcfec987"
      },
      "outputs": [],
      "source": []
    },
    {
      "cell_type": "markdown",
      "id": "526d18c1",
      "metadata": {
        "id": "526d18c1"
      },
      "source": [
        "The data stored in a dictionary, it was described that it is stored in pairs of...?"
      ]
    },
    {
      "cell_type": "code",
      "execution_count": null,
      "id": "e63e47c4",
      "metadata": {
        "id": "e63e47c4"
      },
      "outputs": [],
      "source": []
    }
  ],
  "metadata": {
    "kernelspec": {
      "display_name": "Python 3",
      "language": "python",
      "name": "python3"
    },
    "language_info": {
      "codemirror_mode": {
        "name": "ipython",
        "version": 3
      },
      "file_extension": ".py",
      "mimetype": "text/x-python",
      "name": "python",
      "nbconvert_exporter": "python",
      "pygments_lexer": "ipython3",
      "version": "3.8.8"
    },
    "colab": {
      "provenance": [],
      "include_colab_link": true
    }
  },
  "nbformat": 4,
  "nbformat_minor": 5
}